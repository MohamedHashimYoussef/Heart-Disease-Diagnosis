{
  "nbformat": 4,
  "nbformat_minor": 0,
  "metadata": {
    "colab": {
      "name": "HeartDiseasePrediction",
      "provenance": [],
      "collapsed_sections": [],
      "toc_visible": true,
      "mount_file_id": "1iN-N3UjkaIIZwjLEYT9UqNiLkdclvux3",
      "authorship_tag": "ABX9TyMXnJROjvzuLA4hJdGYmOQz",
      "include_colab_link": true
    },
    "kernelspec": {
      "name": "python3",
      "display_name": "Python 3"
    }
  },
  "cells": [
    {
      "cell_type": "markdown",
      "metadata": {
        "id": "view-in-github",
        "colab_type": "text"
      },
      "source": [
        "<a href=\"https://colab.research.google.com/github/MohamedHashimYoussef/Brain-Tumor-Diagnosis/blob/master/HeartDiseasePrediction.ipynb\" target=\"_parent\"><img src=\"https://colab.research.google.com/assets/colab-badge.svg\" alt=\"Open In Colab\"/></a>"
      ]
    },
    {
      "cell_type": "markdown",
      "metadata": {
        "id": "ZZnRjQ4cqfIL",
        "colab_type": "text"
      },
      "source": [
        "# **Introduction**\n",
        "\n",
        "> Heart disease describes a range of conditions that affect your heart. Diseases under the heart disease umbrella include blood vessel diseases, such as coronary artery disease; heart rhythm problems (arrhythmias); and heart defects you're born with (congenital heart defects), among others.\n",
        "\n",
        "\n",
        "> Such information, if predicted well in advance, can provide important insights to doctors who can then adapt their diagnosis and treatment per patient basis.\n",
        "\n",
        "\n",
        "\n"
      ]
    },
    {
      "cell_type": "markdown",
      "metadata": {
        "id": "vHLzyynIq7UV",
        "colab_type": "text"
      },
      "source": [
        "# **Goal**\n",
        "\n",
        "> Predict if the Patient have heart Disease or not from then given features.\n",
        "\n",
        "\n"
      ]
    },
    {
      "cell_type": "markdown",
      "metadata": {
        "id": "gQh3E5Z5rLp4",
        "colab_type": "text"
      },
      "source": [
        "# **Data**\n",
        "\n",
        "*   **Train and validation data:**\n",
        "\n",
        "\n",
        "> Contains 242 row each row consist of 13 independent features(F1 -> F13) and 1 dependent   feature (Target)\n",
        "\n",
        "\n",
        "*   **Test data:**\n",
        "\n",
        "\n",
        "> Contains 61 row each row consist of 13 independent features(F1 -> F13)\n",
        "\n",
        "\n",
        "\n"
      ]
    },
    {
      "cell_type": "code",
      "metadata": {
        "id": "qJkwb6pDr4fU",
        "colab_type": "code",
        "outputId": "9a98c1a7-690a-4b8a-ba23-cab7ed15d460",
        "colab": {
          "base_uri": "https://localhost:8080/",
          "height": 34
        }
      },
      "source": [
        "# Import Helpful Packages\n",
        "import numpy as np\n",
        "import pandas as pd\n",
        "import matplotlib.pyplot as plt\n",
        "from sklearn.preprocessing import StandardScaler\n",
        "from sklearn.model_selection import train_test_split\n",
        "from keras.models import Sequential\n",
        "from keras.layers import Dense \n",
        "import seaborn as sns\n",
        "from sklearn.neighbors import KNeighborsClassifier\n",
        "from sklearn.metrics import confusion_matrix\n",
        "from sklearn.metrics import plot_confusion_matrix\n",
        "\n",
        "import os\n",
        "print(os.listdir(\"/content/drive/My Drive/Heart/\"))"
      ],
      "execution_count": 0,
      "outputs": [
        {
          "output_type": "stream",
          "text": [
            "['heart_train.csv', 'heart_test.csv']\n"
          ],
          "name": "stdout"
        }
      ]
    },
    {
      "cell_type": "markdown",
      "metadata": {
        "id": "NbFqZCDVsMwp",
        "colab_type": "text"
      },
      "source": [
        "# **Read Data**"
      ]
    },
    {
      "cell_type": "code",
      "metadata": {
        "id": "1bB6Nd5PsZJZ",
        "colab_type": "code",
        "colab": {}
      },
      "source": [
        "# Reading Data in DataFrame\n",
        "df    = pd.read_csv('/content/drive/My Drive/Heart/heart_train.csv')"
      ],
      "execution_count": 0,
      "outputs": []
    },
    {
      "cell_type": "code",
      "metadata": {
        "id": "5GYYmQ9Gssma",
        "colab_type": "code",
        "outputId": "72e01f26-f015-4210-872b-ce1f1e1dcf08",
        "colab": {
          "base_uri": "https://localhost:8080/",
          "height": 204
        }
      },
      "source": [
        "# Print First Five rows in Data\n",
        "df.head()"
      ],
      "execution_count": 0,
      "outputs": [
        {
          "output_type": "execute_result",
          "data": {
            "text/html": [
              "<div>\n",
              "<style scoped>\n",
              "    .dataframe tbody tr th:only-of-type {\n",
              "        vertical-align: middle;\n",
              "    }\n",
              "\n",
              "    .dataframe tbody tr th {\n",
              "        vertical-align: top;\n",
              "    }\n",
              "\n",
              "    .dataframe thead th {\n",
              "        text-align: right;\n",
              "    }\n",
              "</style>\n",
              "<table border=\"1\" class=\"dataframe\">\n",
              "  <thead>\n",
              "    <tr style=\"text-align: right;\">\n",
              "      <th></th>\n",
              "      <th>index</th>\n",
              "      <th>F1</th>\n",
              "      <th>F2</th>\n",
              "      <th>F3</th>\n",
              "      <th>F4</th>\n",
              "      <th>F5</th>\n",
              "      <th>F6</th>\n",
              "      <th>F7</th>\n",
              "      <th>F8</th>\n",
              "      <th>F9</th>\n",
              "      <th>F10</th>\n",
              "      <th>F11</th>\n",
              "      <th>F12</th>\n",
              "      <th>F13</th>\n",
              "      <th>target</th>\n",
              "    </tr>\n",
              "  </thead>\n",
              "  <tbody>\n",
              "    <tr>\n",
              "      <th>0</th>\n",
              "      <td>1</td>\n",
              "      <td>43</td>\n",
              "      <td>0</td>\n",
              "      <td>2</td>\n",
              "      <td>122</td>\n",
              "      <td>213</td>\n",
              "      <td>1</td>\n",
              "      <td>0</td>\n",
              "      <td>165</td>\n",
              "      <td>0</td>\n",
              "      <td>0.2</td>\n",
              "      <td>2</td>\n",
              "      <td>1</td>\n",
              "      <td>0</td>\n",
              "      <td>1</td>\n",
              "    </tr>\n",
              "    <tr>\n",
              "      <th>1</th>\n",
              "      <td>2</td>\n",
              "      <td>66</td>\n",
              "      <td>0</td>\n",
              "      <td>2</td>\n",
              "      <td>146</td>\n",
              "      <td>278</td>\n",
              "      <td>0</td>\n",
              "      <td>0</td>\n",
              "      <td>152</td>\n",
              "      <td>1</td>\n",
              "      <td>0.0</td>\n",
              "      <td>2</td>\n",
              "      <td>1</td>\n",
              "      <td>0</td>\n",
              "      <td>1</td>\n",
              "    </tr>\n",
              "    <tr>\n",
              "      <th>2</th>\n",
              "      <td>3</td>\n",
              "      <td>58</td>\n",
              "      <td>0</td>\n",
              "      <td>2</td>\n",
              "      <td>140</td>\n",
              "      <td>211</td>\n",
              "      <td>0</td>\n",
              "      <td>1</td>\n",
              "      <td>165</td>\n",
              "      <td>0</td>\n",
              "      <td>0.0</td>\n",
              "      <td>2</td>\n",
              "      <td>2</td>\n",
              "      <td>1</td>\n",
              "      <td>1</td>\n",
              "    </tr>\n",
              "    <tr>\n",
              "      <th>3</th>\n",
              "      <td>4</td>\n",
              "      <td>63</td>\n",
              "      <td>1</td>\n",
              "      <td>0</td>\n",
              "      <td>124</td>\n",
              "      <td>197</td>\n",
              "      <td>1</td>\n",
              "      <td>0</td>\n",
              "      <td>136</td>\n",
              "      <td>0</td>\n",
              "      <td>0.0</td>\n",
              "      <td>2</td>\n",
              "      <td>1</td>\n",
              "      <td>0</td>\n",
              "      <td>0</td>\n",
              "    </tr>\n",
              "    <tr>\n",
              "      <th>4</th>\n",
              "      <td>5</td>\n",
              "      <td>57</td>\n",
              "      <td>0</td>\n",
              "      <td>1</td>\n",
              "      <td>154</td>\n",
              "      <td>232</td>\n",
              "      <td>0</td>\n",
              "      <td>0</td>\n",
              "      <td>164</td>\n",
              "      <td>1</td>\n",
              "      <td>0.0</td>\n",
              "      <td>2</td>\n",
              "      <td>2</td>\n",
              "      <td>1</td>\n",
              "      <td>0</td>\n",
              "    </tr>\n",
              "  </tbody>\n",
              "</table>\n",
              "</div>"
            ],
            "text/plain": [
              "   index  F1  F2  F3   F4   F5  F6  F7   F8  F9  F10  F11  F12  F13  target\n",
              "0      1  43   0   2  122  213   1   0  165   0  0.2    2    1    0       1\n",
              "1      2  66   0   2  146  278   0   0  152   1  0.0    2    1    0       1\n",
              "2      3  58   0   2  140  211   0   1  165   0  0.0    2    2    1       1\n",
              "3      4  63   1   0  124  197   1   0  136   0  0.0    2    1    0       0\n",
              "4      5  57   0   1  154  232   0   0  164   1  0.0    2    2    1       0"
            ]
          },
          "metadata": {
            "tags": []
          },
          "execution_count": 504
        }
      ]
    },
    {
      "cell_type": "code",
      "metadata": {
        "id": "lPXT8hJjs8Rz",
        "colab_type": "code",
        "colab": {}
      },
      "source": [
        "# Delete index Colum\n",
        "del df['index']"
      ],
      "execution_count": 0,
      "outputs": []
    },
    {
      "cell_type": "markdown",
      "metadata": {
        "id": "3U7ACJmDtfks",
        "colab_type": "text"
      },
      "source": [
        "# **Data Exploration**\n",
        "\n",
        "> Label Value ( 1 ) Maps To Have Heart Disease\n",
        "\n",
        "\n",
        "> Label Value ( 0 ) Maps To Haven't Heart Disease\n",
        "\n",
        "\n",
        "\n"
      ]
    },
    {
      "cell_type": "code",
      "metadata": {
        "id": "kW8al5JOwV1c",
        "colab_type": "code",
        "outputId": "97c7e111-05da-45e2-d09e-09c63336f2c2",
        "colab": {
          "base_uri": "https://localhost:8080/",
          "height": 34
        }
      },
      "source": [
        "# Print Data Shape\n",
        "df.shape"
      ],
      "execution_count": 0,
      "outputs": [
        {
          "output_type": "execute_result",
          "data": {
            "text/plain": [
              "(242, 14)"
            ]
          },
          "metadata": {
            "tags": []
          },
          "execution_count": 506
        }
      ]
    },
    {
      "cell_type": "code",
      "metadata": {
        "id": "IVXHDUc6tnVK",
        "colab_type": "code",
        "outputId": "d80de8f6-ecdc-400f-9d60-7de63488e997",
        "colab": {
          "base_uri": "https://localhost:8080/",
          "height": 68
        }
      },
      "source": [
        "# Summary Labels ( 1 -> Have Heart Disease ) , ( 0 -> Haven't Heart Disease )\n",
        "df.target.value_counts()"
      ],
      "execution_count": 0,
      "outputs": [
        {
          "output_type": "execute_result",
          "data": {
            "text/plain": [
              "1    131\n",
              "0    111\n",
              "Name: target, dtype: int64"
            ]
          },
          "metadata": {
            "tags": []
          },
          "execution_count": 507
        }
      ]
    },
    {
      "cell_type": "code",
      "metadata": {
        "id": "8-6B2XW5t837",
        "colab_type": "code",
        "outputId": "d50fa36d-bf18-4e00-cd5c-4e1d99f4d41f",
        "colab": {
          "base_uri": "https://localhost:8080/",
          "height": 279
        }
      },
      "source": [
        "sns.countplot(x=\"target\", data=df, palette=\"bwr\")\n",
        "plt.show()"
      ],
      "execution_count": 0,
      "outputs": [
        {
          "output_type": "display_data",
          "data": {
            "image/png": "[encoded data removed]",
            "text/plain": [
              "<Figure size 432x288 with 1 Axes>"
            ]
          },
          "metadata": {
            "tags": [],
            "needs_background": "light"
          }
        }
      ]
    },
    {
      "cell_type": "code",
      "metadata": {
        "id": "dYk0oO8tueQN",
        "colab_type": "code",
        "outputId": "29708469-fb93-4e8f-f330-4732f0b6428a",
        "colab": {
          "base_uri": "https://localhost:8080/",
          "height": 51
        }
      },
      "source": [
        "countNoDisease = len(df[df.target == 0])\n",
        "countHaveDisease = len(df[df.target == 1])\n",
        "print(\"Percentage of Patients Haven't Heart Disease : {:.2f}%\".format((countNoDisease / (len(df.target))*100)))\n",
        "print(\"Percentage of Patients Have Heart Disease : {:.2f}%\".format((countHaveDisease / (len(df.target))*100)))"
      ],
      "execution_count": 0,
      "outputs": [
        {
          "output_type": "stream",
          "text": [
            "Percentage of Patients Haven't Heart Disease : 45.87%\n",
            "Percentage of Patients Have Heart Disease : 54.13%\n"
          ],
          "name": "stdout"
        }
      ]
    },
    {
      "cell_type": "code",
      "metadata": {
        "id": "xIfhR7ubu5Hl",
        "colab_type": "code",
        "outputId": "26665ab6-89c1-40bf-de10-f32e81ea3923",
        "colab": {
          "base_uri": "https://localhost:8080/",
          "height": 142
        }
      },
      "source": [
        "# Get Mean of All Features For Each Label\n",
        "df.groupby('target').mean()"
      ],
      "execution_count": 0,
      "outputs": [
        {
          "output_type": "execute_result",
          "data": {
            "text/html": [
              "<div>\n",
              "<style scoped>\n",
              "    .dataframe tbody tr th:only-of-type {\n",
              "        vertical-align: middle;\n",
              "    }\n",
              "\n",
              "    .dataframe tbody tr th {\n",
              "        vertical-align: top;\n",
              "    }\n",
              "\n",
              "    .dataframe thead th {\n",
              "        text-align: right;\n",
              "    }\n",
              "</style>\n",
              "<table border=\"1\" class=\"dataframe\">\n",
              "  <thead>\n",
              "    <tr style=\"text-align: right;\">\n",
              "      <th></th>\n",
              "      <th>F1</th>\n",
              "      <th>F2</th>\n",
              "      <th>F3</th>\n",
              "      <th>F4</th>\n",
              "      <th>F5</th>\n",
              "      <th>F6</th>\n",
              "      <th>F7</th>\n",
              "      <th>F8</th>\n",
              "      <th>F9</th>\n",
              "      <th>F10</th>\n",
              "      <th>F11</th>\n",
              "      <th>F12</th>\n",
              "      <th>F13</th>\n",
              "    </tr>\n",
              "    <tr>\n",
              "      <th>target</th>\n",
              "      <th></th>\n",
              "      <th></th>\n",
              "      <th></th>\n",
              "      <th></th>\n",
              "      <th></th>\n",
              "      <th></th>\n",
              "      <th></th>\n",
              "      <th></th>\n",
              "      <th></th>\n",
              "      <th></th>\n",
              "      <th></th>\n",
              "      <th></th>\n",
              "      <th></th>\n",
              "    </tr>\n",
              "  </thead>\n",
              "  <tbody>\n",
              "    <tr>\n",
              "      <th>0</th>\n",
              "      <td>56.873874</td>\n",
              "      <td>0.558559</td>\n",
              "      <td>0.477477</td>\n",
              "      <td>134.414414</td>\n",
              "      <td>250.324324</td>\n",
              "      <td>0.477477</td>\n",
              "      <td>0.171171</td>\n",
              "      <td>139.612613</td>\n",
              "      <td>1.207207</td>\n",
              "      <td>1.599099</td>\n",
              "      <td>2.495495</td>\n",
              "      <td>1.207207</td>\n",
              "      <td>0.837838</td>\n",
              "    </tr>\n",
              "    <tr>\n",
              "      <th>1</th>\n",
              "      <td>53.137405</td>\n",
              "      <td>0.145038</td>\n",
              "      <td>1.381679</td>\n",
              "      <td>129.595420</td>\n",
              "      <td>243.740458</td>\n",
              "      <td>0.557252</td>\n",
              "      <td>0.129771</td>\n",
              "      <td>158.480916</td>\n",
              "      <td>0.320611</td>\n",
              "      <td>0.609160</td>\n",
              "      <td>2.114504</td>\n",
              "      <td>1.580153</td>\n",
              "      <td>0.534351</td>\n",
              "    </tr>\n",
              "  </tbody>\n",
              "</table>\n",
              "</div>"
            ],
            "text/plain": [
              "               F1        F2        F3  ...       F11       F12       F13\n",
              "target                                 ...                              \n",
              "0       56.873874  0.558559  0.477477  ...  2.495495  1.207207  0.837838\n",
              "1       53.137405  0.145038  1.381679  ...  2.114504  1.580153  0.534351\n",
              "\n",
              "[2 rows x 13 columns]"
            ]
          },
          "metadata": {
            "tags": []
          },
          "execution_count": 510
        }
      ]
    },
    {
      "cell_type": "code",
      "metadata": {
        "id": "jsccZq9rvGQ4",
        "colab_type": "code",
        "outputId": "4a7eb8ae-df02-4ed0-a937-9a7f506abca5",
        "colab": {
          "base_uri": "https://localhost:8080/",
          "height": 297
        }
      },
      "source": [
        "# Summary & Describe Data\n",
        "df.describe()"
      ],
      "execution_count": 0,
      "outputs": [
        {
          "output_type": "execute_result",
          "data": {
            "text/html": [
              "<div>\n",
              "<style scoped>\n",
              "    .dataframe tbody tr th:only-of-type {\n",
              "        vertical-align: middle;\n",
              "    }\n",
              "\n",
              "    .dataframe tbody tr th {\n",
              "        vertical-align: top;\n",
              "    }\n",
              "\n",
              "    .dataframe thead th {\n",
              "        text-align: right;\n",
              "    }\n",
              "</style>\n",
              "<table border=\"1\" class=\"dataframe\">\n",
              "  <thead>\n",
              "    <tr style=\"text-align: right;\">\n",
              "      <th></th>\n",
              "      <th>F1</th>\n",
              "      <th>F2</th>\n",
              "      <th>F3</th>\n",
              "      <th>F4</th>\n",
              "      <th>F5</th>\n",
              "      <th>F6</th>\n",
              "      <th>F7</th>\n",
              "      <th>F8</th>\n",
              "      <th>F9</th>\n",
              "      <th>F10</th>\n",
              "      <th>F11</th>\n",
              "      <th>F12</th>\n",
              "      <th>F13</th>\n",
              "      <th>target</th>\n",
              "    </tr>\n",
              "  </thead>\n",
              "  <tbody>\n",
              "    <tr>\n",
              "      <th>count</th>\n",
              "      <td>242.000000</td>\n",
              "      <td>242.000000</td>\n",
              "      <td>242.000000</td>\n",
              "      <td>242.000000</td>\n",
              "      <td>242.000000</td>\n",
              "      <td>242.000000</td>\n",
              "      <td>242.00000</td>\n",
              "      <td>242.000000</td>\n",
              "      <td>242.000000</td>\n",
              "      <td>242.000000</td>\n",
              "      <td>242.000000</td>\n",
              "      <td>242.000000</td>\n",
              "      <td>242.000000</td>\n",
              "      <td>242.000000</td>\n",
              "    </tr>\n",
              "    <tr>\n",
              "      <th>mean</th>\n",
              "      <td>54.851240</td>\n",
              "      <td>0.334711</td>\n",
              "      <td>0.966942</td>\n",
              "      <td>131.805785</td>\n",
              "      <td>246.760331</td>\n",
              "      <td>0.520661</td>\n",
              "      <td>0.14876</td>\n",
              "      <td>149.826446</td>\n",
              "      <td>0.727273</td>\n",
              "      <td>1.063223</td>\n",
              "      <td>2.289256</td>\n",
              "      <td>1.409091</td>\n",
              "      <td>0.673554</td>\n",
              "      <td>0.541322</td>\n",
              "    </tr>\n",
              "    <tr>\n",
              "      <th>std</th>\n",
              "      <td>8.944421</td>\n",
              "      <td>0.472867</td>\n",
              "      <td>1.050065</td>\n",
              "      <td>17.114924</td>\n",
              "      <td>53.471911</td>\n",
              "      <td>0.532732</td>\n",
              "      <td>0.35659</td>\n",
              "      <td>23.169116</td>\n",
              "      <td>1.030651</td>\n",
              "      <td>1.193764</td>\n",
              "      <td>0.623709</td>\n",
              "      <td>0.619530</td>\n",
              "      <td>0.469885</td>\n",
              "      <td>0.499322</td>\n",
              "    </tr>\n",
              "    <tr>\n",
              "      <th>min</th>\n",
              "      <td>29.000000</td>\n",
              "      <td>0.000000</td>\n",
              "      <td>0.000000</td>\n",
              "      <td>94.000000</td>\n",
              "      <td>131.000000</td>\n",
              "      <td>0.000000</td>\n",
              "      <td>0.00000</td>\n",
              "      <td>71.000000</td>\n",
              "      <td>0.000000</td>\n",
              "      <td>0.000000</td>\n",
              "      <td>0.000000</td>\n",
              "      <td>0.000000</td>\n",
              "      <td>0.000000</td>\n",
              "      <td>0.000000</td>\n",
              "    </tr>\n",
              "    <tr>\n",
              "      <th>25%</th>\n",
              "      <td>48.000000</td>\n",
              "      <td>0.000000</td>\n",
              "      <td>0.000000</td>\n",
              "      <td>120.000000</td>\n",
              "      <td>209.250000</td>\n",
              "      <td>0.000000</td>\n",
              "      <td>0.00000</td>\n",
              "      <td>134.500000</td>\n",
              "      <td>0.000000</td>\n",
              "      <td>0.000000</td>\n",
              "      <td>2.000000</td>\n",
              "      <td>1.000000</td>\n",
              "      <td>0.000000</td>\n",
              "      <td>0.000000</td>\n",
              "    </tr>\n",
              "    <tr>\n",
              "      <th>50%</th>\n",
              "      <td>56.000000</td>\n",
              "      <td>0.000000</td>\n",
              "      <td>1.000000</td>\n",
              "      <td>130.000000</td>\n",
              "      <td>240.000000</td>\n",
              "      <td>1.000000</td>\n",
              "      <td>0.00000</td>\n",
              "      <td>153.000000</td>\n",
              "      <td>0.000000</td>\n",
              "      <td>0.800000</td>\n",
              "      <td>2.000000</td>\n",
              "      <td>1.000000</td>\n",
              "      <td>1.000000</td>\n",
              "      <td>1.000000</td>\n",
              "    </tr>\n",
              "    <tr>\n",
              "      <th>75%</th>\n",
              "      <td>61.000000</td>\n",
              "      <td>1.000000</td>\n",
              "      <td>2.000000</td>\n",
              "      <td>140.000000</td>\n",
              "      <td>277.750000</td>\n",
              "      <td>1.000000</td>\n",
              "      <td>0.00000</td>\n",
              "      <td>166.000000</td>\n",
              "      <td>1.000000</td>\n",
              "      <td>1.750000</td>\n",
              "      <td>3.000000</td>\n",
              "      <td>2.000000</td>\n",
              "      <td>1.000000</td>\n",
              "      <td>1.000000</td>\n",
              "    </tr>\n",
              "    <tr>\n",
              "      <th>max</th>\n",
              "      <td>77.000000</td>\n",
              "      <td>1.000000</td>\n",
              "      <td>3.000000</td>\n",
              "      <td>192.000000</td>\n",
              "      <td>564.000000</td>\n",
              "      <td>2.000000</td>\n",
              "      <td>1.00000</td>\n",
              "      <td>202.000000</td>\n",
              "      <td>4.000000</td>\n",
              "      <td>6.200000</td>\n",
              "      <td>3.000000</td>\n",
              "      <td>2.000000</td>\n",
              "      <td>1.000000</td>\n",
              "      <td>1.000000</td>\n",
              "    </tr>\n",
              "  </tbody>\n",
              "</table>\n",
              "</div>"
            ],
            "text/plain": [
              "               F1          F2          F3  ...         F12         F13      target\n",
              "count  242.000000  242.000000  242.000000  ...  242.000000  242.000000  242.000000\n",
              "mean    54.851240    0.334711    0.966942  ...    1.409091    0.673554    0.541322\n",
              "std      8.944421    0.472867    1.050065  ...    0.619530    0.469885    0.499322\n",
              "min     29.000000    0.000000    0.000000  ...    0.000000    0.000000    0.000000\n",
              "25%     48.000000    0.000000    0.000000  ...    1.000000    0.000000    0.000000\n",
              "50%     56.000000    0.000000    1.000000  ...    1.000000    1.000000    1.000000\n",
              "75%     61.000000    1.000000    2.000000  ...    2.000000    1.000000    1.000000\n",
              "max     77.000000    1.000000    3.000000  ...    2.000000    1.000000    1.000000\n",
              "\n",
              "[8 rows x 14 columns]"
            ]
          },
          "metadata": {
            "tags": []
          },
          "execution_count": 511
        }
      ]
    },
    {
      "cell_type": "markdown",
      "metadata": {
        "id": "k6dsmcCyvUcK",
        "colab_type": "text"
      },
      "source": [
        "# **Preprocessing**"
      ]
    },
    {
      "cell_type": "code",
      "metadata": {
        "id": "wV2cXb61vfGn",
        "colab_type": "code",
        "outputId": "35d0c98e-29ee-4d3d-bf48-f1ce75e1fb03",
        "colab": {
          "base_uri": "https://localhost:8080/",
          "height": 289
        }
      },
      "source": [
        "# Divide data to features and labels\n",
        "X     = df.iloc[ : , : -1].values\n",
        "Y     = df.iloc[ : , -1 ].values\n",
        "print('Features ...')\n",
        "print(X)\n",
        "print('Labels ...')\n",
        "print(Y)"
      ],
      "execution_count": 0,
      "outputs": [
        {
          "output_type": "stream",
          "text": [
            "Features ...\n",
            "[[43.  0.  2. ...  2.  1.  0.]\n",
            " [66.  0.  2. ...  2.  1.  0.]\n",
            " [58.  0.  2. ...  2.  2.  1.]\n",
            " ...\n",
            " [56.  0.  3. ...  3.  1.  1.]\n",
            " [47.  0.  2. ...  2.  2.  1.]\n",
            " [58.  0.  1. ...  2.  1.  1.]]\n",
            "Labels ...\n",
            "[1 1 1 0 0 0 0 1 1 1 1 1 0 0 1 0 0 1 1 0 0 0 1 0 0 0 0 1 0 0 1 1 0 1 1 0 0\n",
            " 1 0 0 1 0 1 0 0 0 1 1 1 0 0 0 0 1 0 1 1 1 0 1 1 1 0 1 1 1 1 1 1 1 0 0 1 1\n",
            " 0 1 1 0 0 0 0 1 0 1 1 0 1 1 1 1 1 1 0 0 1 0 0 0 1 1 1 0 1 0 1 1 0 1 1 1 1\n",
            " 1 0 0 1 0 1 0 0 1 0 0 1 1 1 0 0 1 1 0 1 0 1 0 1 1 0 1 1 1 0 1 0 0 0 1 1 1\n",
            " 1 0 1 0 1 0 1 1 1 0 1 0 1 0 0 0 1 1 0 1 0 1 1 0 0 1 0 1 1 0 1 1 1 1 1 0 0\n",
            " 1 1 1 0 0 1 1 1 1 1 0 1 1 0 1 1 0 1 1 0 0 1 1 1 0 0 0 1 0 0 1 0 0 1 0 1 1\n",
            " 0 0 0 0 1 0 1 1 1 0 0 0 0 1 0 0 0 1 1 0]\n"
          ],
          "name": "stdout"
        }
      ]
    },
    {
      "cell_type": "code",
      "metadata": {
        "id": "6WaagZmPwM9F",
        "colab_type": "code",
        "colab": {}
      },
      "source": [
        "# Split data to train data and test data\n",
        "x_train , x_test , y_train , y_test = train_test_split(X , Y , test_size= 0.2 , random_state = 0)"
      ],
      "execution_count": 0,
      "outputs": []
    },
    {
      "cell_type": "code",
      "metadata": {
        "id": "J_E2lvGsw4aV",
        "colab_type": "code",
        "outputId": "1e150226-540b-4e6b-ff98-338d333744cb",
        "colab": {
          "base_uri": "https://localhost:8080/",
          "height": 1000
        }
      },
      "source": [
        "# Scale Data using Standard Scaler \n",
        "sc                = StandardScaler()\n",
        "x_train_scaled    = sc.fit_transform(x_train)\n",
        "x_test_scaled     = sc.transform(x_test)\n",
        "print('X Train after scaling ...')\n",
        "print(x_train_scaled)\n",
        "print('X Test after scaling ...')\n",
        "print(x_test_scaled)\n"
      ],
      "execution_count": 0,
      "outputs": [
        {
          "output_type": "stream",
          "text": [
            "X Train after scaling ...\n",
            "[[ 1.78477852 -0.74595684  0.07600029 ... -0.45398479  1.002017\n",
            "  -1.5070456 ]\n",
            " [-1.25558789  1.34056013  1.05387064 ... -0.45398479  1.002017\n",
            "   0.66354993]\n",
            " [-1.25558789 -0.74595684  1.05387064 ... -0.45398479  1.002017\n",
            "   0.66354993]\n",
            " ...\n",
            " [ 0.32089839  1.34056013 -0.90187007 ...  1.05668875 -0.63687521\n",
            "   0.66354993]\n",
            " [-0.46734475  1.34056013  1.05387064 ...  1.05668875  1.002017\n",
            "   0.66354993]\n",
            " [ 0.32089839 -0.74595684 -0.90187007 ...  1.05668875 -0.63687521\n",
            "   0.66354993]]\n",
            "X Test after scaling ...\n",
            "[[ 0.32089839 -0.74595684 -0.90187007 -0.07695441 -0.89745468  0.93820532\n",
            "  -0.42900942 -0.7348438  -0.74371819 -0.42005681 -0.45398479 -0.63687521\n",
            "  -1.5070456 ]\n",
            " [ 1.44696003 -0.74595684 -0.90187007  0.76487078 -0.97094943  0.93820532\n",
            "   2.33095116 -0.31224292  1.18296115  1.93714672  1.05668875 -0.63687521\n",
            "   0.66354993]\n",
            " [-0.9177694  -0.74595684  1.05387064 -0.07695441  0.13147183  0.93820532\n",
            "  -0.42900942  1.29364039 -0.74371819 -0.92517185 -0.45398479  1.002017\n",
            "   0.66354993]\n",
            " [-0.12952626 -0.74595684  0.07600029 -1.39982256  1.16039834  0.93820532\n",
            "  -0.42900942  0.32165838 -0.74371819 -0.92517185  1.05668875  1.002017\n",
            "   0.66354993]\n",
            " [ 0.32089839 -0.74595684  2.03174099  1.125653    0.68268246 -0.94797829\n",
            "   2.33095116  0.57521891 -0.74371819 -0.08331345 -0.45398479  1.002017\n",
            "  -1.5070456 ]\n",
            " [-1.70601255 -0.74595684 -0.90187007  1.24591374 -0.4197388   0.93820532\n",
            "  -0.42900942  1.37816056 -0.74371819 -0.92517185  1.05668875  1.002017\n",
            "   0.66354993]\n",
            " [-0.24213242 -0.74595684 -0.90187007 -0.07695441  0.33358239 -0.94797829\n",
            "  -0.42900942 -0.22772275 -0.74371819 -0.58842849 -0.45398479 -0.63687521\n",
            "  -1.5070456 ]\n",
            " [ 0.77132305 -0.74595684 -0.90187007  0.52434929  2.72216179 -0.94797829\n",
            "  -0.42900942  0.36391847 -0.74371819  0.08505823 -0.45398479 -0.63687521\n",
            "  -1.5070456 ]\n",
            " [-0.46734475  1.34056013 -0.90187007  0.52434929  0.95828777  0.93820532\n",
            "  -0.42900942 -1.11518458  2.14630082  2.61063344  1.05668875 -0.63687521\n",
            "   0.66354993]\n",
            " [ 1.10914154 -0.74595684  1.05387064  1.42630485  0.42545083  0.93820532\n",
            "  -0.42900942 -0.01642231 -0.74371819 -0.25168513 -0.45398479  1.002017\n",
            "  -1.5070456 ]\n",
            " [ 1.33435386  1.34056013 -0.90187007  1.72695671  0.73780352 -0.94797829\n",
            "  -0.42900942 -1.7068258   2.14630082  0.33761575 -0.45398479 -0.63687521\n",
            "   0.66354993]\n",
            " [-1.03037557  1.34056013 -0.90187007  0.40408855 -0.05226505 -0.94797829\n",
            "  -0.42900942  0.15261804 -0.74371819 -0.92517185 -0.45398479 -0.63687521\n",
            "  -1.5070456 ]\n",
            " [-0.35473859 -0.74595684  0.07600029 -0.19721515 -0.75046518  0.93820532\n",
            "   2.33095116  1.50494083 -0.74371819 -0.92517185 -0.45398479  1.002017\n",
            "   0.66354993]\n",
            " [ 1.33435386 -0.74595684 -0.90187007 -1.52008331 -0.4197388   0.93820532\n",
            "  -0.42900942 -0.26998284  1.18296115 -0.67261433 -0.45398479  1.002017\n",
            "  -1.5070456 ]\n",
            " [ 0.99653537 -0.74595684 -0.90187007 -0.07695441  1.05015621  0.93820532\n",
            "  -0.42900942 -1.11518458  1.18296115  0.75854495 -0.45398479 -0.63687521\n",
            "  -1.5070456 ]\n",
            " [-0.12952626 -0.74595684  1.05387064  0.22369744  1.0685299   0.93820532\n",
            "   2.33095116  0.9132996  -0.74371819 -0.92517185 -0.45398479  1.002017\n",
            "  -1.5070456 ]\n",
            " [-2.04383104 -0.74595684  1.05387064 -0.07695441  0.07635076  0.93820532\n",
            "  -0.42900942  1.63172109 -0.74371819  2.02133256 -0.45398479 -2.27576743\n",
            "   0.66354993]\n",
            " [-1.36819406 -0.74595684  1.05387064 -0.07695441  1.27064046  0.93820532\n",
            "  -0.42900942  0.57521891  0.21962148  0.67435911 -0.45398479  1.002017\n",
            "   0.66354993]\n",
            " [-0.0169201   1.34056013 -0.90187007 -0.19721515 -0.75046518  2.82438894\n",
            "  -0.42900942 -0.77710388  0.21962148  0.75854495  1.05668875 -0.63687521\n",
            "  -1.5070456 ]\n",
            " [-0.46734475  1.34056013 -0.90187007  0.52434929  0.27846133 -0.94797829\n",
            "  -0.42900942  1.589461   -0.74371819 -0.92517185 -0.45398479  1.002017\n",
            "   0.66354993]\n",
            " [ 1.44696003  1.34056013  1.05387064  2.92956412  0.51731927 -0.94797829\n",
            "   2.33095116  0.06809786 -0.74371819  0.42180159  1.05668875 -0.63687521\n",
            "   0.66354993]\n",
            " [ 0.77132305 -0.74595684 -0.90187007 -0.43773664 -0.67697043  0.93820532\n",
            "  -0.42900942  0.61747899 -0.74371819 -0.92517185 -0.45398479  1.002017\n",
            "  -1.5070456 ]\n",
            " [-1.59340638 -0.74595684  0.07600029 -1.58021368 -0.87908099  0.93820532\n",
            "  -0.42900942  0.82877943  0.21962148 -0.92517185 -0.45398479  1.002017\n",
            "  -1.5070456 ]\n",
            " [-0.0169201  -0.74595684  0.07600029 -0.07695441  0.29683502  0.93820532\n",
            "  -0.42900942  0.2793983  -0.74371819 -0.92517185 -0.45398479  1.002017\n",
            "   0.66354993]\n",
            " [ 0.43350456 -0.74595684  2.03174099  0.16356707 -0.76883887  0.93820532\n",
            "  -0.42900942  0.57521891  1.18296115 -0.25168513 -0.45398479  1.002017\n",
            "   0.66354993]\n",
            " [-1.93122488 -0.74595684  1.05387064  0.40408855 -1.30167581  0.93820532\n",
            "  -0.42900942  1.04007987  3.10964049 -0.92517185 -0.45398479  1.002017\n",
            "   0.66354993]\n",
            " [-0.35473859 -0.74595684  1.05387064  0.28382781 -0.91582837 -0.94797829\n",
            "  -0.42900942  0.87103952 -0.74371819 -0.84098601 -0.45398479 -0.63687521\n",
            "  -1.5070456 ]\n",
            " [-1.48080022 -0.74595684  1.05387064 -0.67825812 -0.67697043  0.93820532\n",
            "  -0.42900942  1.04007987 -0.74371819 -0.92517185 -0.45398479 -0.63687521\n",
            "  -1.5070456 ]\n",
            " [-0.0169201   1.34056013 -0.90187007  1.72695671  0.79292458 -0.94797829\n",
            "  -0.42900942 -0.14320258  0.21962148 -0.25168513  1.05668875 -0.63687521\n",
            "   0.66354993]\n",
            " [ 0.20829223 -0.74595684  1.05387064  1.125653   -1.43029162  0.93820532\n",
            "  -0.42900942  1.08233995 -0.74371819  0.42180159 -0.45398479  1.002017\n",
            "   0.66354993]\n",
            " [-0.12952626 -0.74595684  1.05387064 -0.37760627  0.49894558 -0.94797829\n",
            "  -0.42900942  0.15261804  0.21962148 -0.50424265 -0.45398479 -2.27576743\n",
            "   0.66354993]\n",
            " [ 0.43350456 -0.74595684  2.03174099  1.72695671  0.49894558 -0.94797829\n",
            "  -0.42900942 -0.98840432 -0.74371819 -0.92517185 -0.45398479  1.002017\n",
            "   0.66354993]\n",
            " [-2.26904337  1.34056013 -0.90187007 -0.31747589  0.66430877 -0.94797829\n",
            "  -0.42900942  0.32165838 -0.74371819 -0.92517185  1.05668875  1.002017\n",
            "   0.66354993]\n",
            " [ 0.99653537  1.34056013  2.03174099 -1.27956182 -0.64022305 -0.94797829\n",
            "  -0.42900942 -0.18546266 -0.74371819  0.59017327 -0.45398479 -0.63687521\n",
            "   0.66354993]\n",
            " [-0.9177694  -0.74595684  1.05387064 -1.39982256 -0.05226505  0.93820532\n",
            "  -0.42900942  0.15261804 -0.74371819 -0.92517185 -0.45398479  1.002017\n",
            "   0.66354993]\n",
            " [ 0.99653537  1.34056013 -0.90187007  2.92956412  1.45437734  0.93820532\n",
            "  -0.42900942  0.23713821 -0.74371819 -0.92517185 -0.45398479  1.002017\n",
            "  -1.5070456 ]\n",
            " [ 0.09568607  1.34056013 -0.90187007 -0.07695441  0.68268246 -0.94797829\n",
            "   2.33095116 -1.91812624 -0.74371819  0.42180159  1.05668875 -2.27576743\n",
            "   0.66354993]\n",
            " [ 0.32089839 -0.74595684  0.07600029 -0.67825812  0.70105615 -0.94797829\n",
            "  -0.42900942  0.49069873 -0.74371819  0.59017327 -0.45398479 -0.63687521\n",
            "   0.66354993]\n",
            " [ 0.54611072 -0.74595684  1.05387064 -1.76060479  1.32576153  0.93820532\n",
            "  -0.42900942  0.49069873  0.21962148 -0.92517185 -0.45398479  1.002017\n",
            "  -1.5070456 ]\n",
            " [-1.59340638 -0.74595684  0.07600029 -0.67825812 -1.63240219  0.93820532\n",
            "  -0.42900942  1.42042065 -0.74371819 -0.92517185 -0.45398479  1.002017\n",
            "   0.66354993]\n",
            " [-0.24213242 -0.74595684 -0.90187007  0.40408855 -0.21762824 -0.94797829\n",
            "  -0.42900942  0.49069873 -0.74371819 -0.92517185 -0.45398479  1.002017\n",
            "  -1.5070456 ]\n",
            " [ 0.65871688 -0.74595684 -0.90187007 -0.07695441  1.54624578 -0.94797829\n",
            "  -0.42900942  0.87103952 -0.74371819 -0.92517185 -0.45398479  1.002017\n",
            "  -1.5070456 ]\n",
            " [-0.12952626  1.34056013 -0.90187007 -1.27956182 -0.1257598   0.93820532\n",
            "  -0.42900942 -0.94614423  0.21962148  1.43203168  1.05668875 -0.63687521\n",
            "   0.66354993]\n",
            " [ 0.43350456 -0.74595684  2.03174099  2.80930338  0.44382452 -0.94797829\n",
            "  -0.42900942 -0.14320258 -0.74371819  2.61063344  1.05668875 -2.27576743\n",
            "   0.66354993]\n",
            " [-2.38164953 -0.74595684  2.03174099 -0.79851886 -1.17306    -0.94797829\n",
            "  -0.42900942  1.08233995 -0.74371819 -0.92517185 -0.45398479  1.002017\n",
            "   0.66354993]\n",
            " [ 0.32089839 -0.74595684  1.05387064  0.04330633 -0.40136512 -0.94797829\n",
            "  -0.42900942  1.04007987  1.18296115  1.76877504  1.05668875  1.002017\n",
            "   0.66354993]\n",
            " [-1.14298173 -0.74595684  0.07600029 -0.07695441 -0.21762824 -0.94797829\n",
            "  -0.42900942  1.12460004 -0.74371819 -0.42005681 -0.45398479 -0.63687521\n",
            "  -1.5070456 ]\n",
            " [-0.9177694  -0.74595684 -0.90187007 -1.15930108 -0.76883887  0.93820532\n",
            "  -0.42900942 -0.22772275 -0.74371819 -0.84098601 -0.45398479  1.002017\n",
            "   0.66354993]\n",
            " [ 0.54611072 -0.74595684  2.03174099  1.125653   -0.10738611  0.93820532\n",
            "  -0.42900942  0.95555969 -0.74371819 -0.16749929 -0.45398479  1.002017\n",
            "  -1.5070456 ]]\n"
          ],
          "name": "stdout"
        }
      ]
    },
    {
      "cell_type": "markdown",
      "metadata": {
        "id": "A3LMYb-nye26",
        "colab_type": "text"
      },
      "source": [
        "# **PCA**"
      ]
    },
    {
      "cell_type": "code",
      "metadata": {
        "id": "SJY_3K6yyxJu",
        "colab_type": "code",
        "outputId": "f2a7b69f-daef-4998-d31f-6e65a70b2964",
        "colab": {
          "base_uri": "https://localhost:8080/",
          "height": 68
        }
      },
      "source": [
        "# Import PCA Script\n",
        "from sklearn.decomposition import PCA\n",
        "pca = PCA()\n",
        "pca.fit(x_train_scaled)\n",
        "print(pca.explained_variance_ratio_)"
      ],
      "execution_count": 0,
      "outputs": [
        {
          "output_type": "stream",
          "text": [
            "[0.20196917 0.12516468 0.09706434 0.09275149 0.07710689 0.07087477\n",
            " 0.06587343 0.06336241 0.05505584 0.05043196 0.03785801 0.03455703\n",
            " 0.02792998]\n"
          ],
          "name": "stdout"
        }
      ]
    },
    {
      "cell_type": "code",
      "metadata": {
        "id": "QESAGnO6y8KB",
        "colab_type": "code",
        "outputId": "2779850e-fde5-48cc-83bf-09cc8d2553ce",
        "colab": {
          "base_uri": "https://localhost:8080/",
          "height": 265
        }
      },
      "source": [
        "# Plotting \n",
        "df = pd.read_csv('/content/drive/My Drive/Heart/heart_train.csv')\n",
        "del df['index']\n",
        "del df['target']\n",
        "xplt = np.array(df.columns)\n",
        "plt.bar(xplt,pca.explained_variance_ratio_)\n",
        "plt.show()"
      ],
      "execution_count": 0,
      "outputs": [
        {
          "output_type": "display_data",
          "data": {
            "image/png": "[encoded data removed]",
            "text/plain": [
              "<Figure size 432x288 with 1 Axes>"
            ]
          },
          "metadata": {
            "tags": [],
            "needs_background": "light"
          }
        }
      ]
    },
    {
      "cell_type": "markdown",
      "metadata": {
        "id": "RlifqpnwzOda",
        "colab_type": "text"
      },
      "source": [
        "# **Machine Learning**"
      ]
    },
    {
      "cell_type": "markdown",
      "metadata": {
        "id": "dArrek3VzVCR",
        "colab_type": "text"
      },
      "source": [
        "## 1 . **KNearestNeighboors**\n"
      ]
    },
    {
      "cell_type": "code",
      "metadata": {
        "id": "zbVzAHrwzdEZ",
        "colab_type": "code",
        "outputId": "ddc4e74f-e83e-4322-f2b0-69a7f4a9e723",
        "colab": {
          "base_uri": "https://localhost:8080/",
          "height": 68
        }
      },
      "source": [
        "# Fitting Model with k = 3\n",
        "clf = KNeighborsClassifier(n_neighbors=3)\n",
        "clf.fit(x_train_scaled , y_train)"
      ],
      "execution_count": 0,
      "outputs": [
        {
          "output_type": "execute_result",
          "data": {
            "text/plain": [
              "KNeighborsClassifier(algorithm='auto', leaf_size=30, metric='minkowski',\n",
              "                     metric_params=None, n_jobs=None, n_neighbors=3, p=2,\n",
              "                     weights='uniform')"
            ]
          },
          "metadata": {
            "tags": []
          },
          "execution_count": 517
        }
      ]
    },
    {
      "cell_type": "code",
      "metadata": {
        "id": "werz67-_zpkr",
        "colab_type": "code",
        "colab": {}
      },
      "source": [
        "# Prediction\n",
        "y_pred = clf.predict(x_test_scaled)"
      ],
      "execution_count": 0,
      "outputs": []
    },
    {
      "cell_type": "code",
      "metadata": {
        "id": "gsMUpnqmzx48",
        "colab_type": "code",
        "outputId": "2939b813-78fe-4017-a225-3ddb1b75b232",
        "colab": {
          "base_uri": "https://localhost:8080/",
          "height": 34
        }
      },
      "source": [
        "# Calculate  Validation accuracy\n",
        "from sklearn.metrics import accuracy_score\n",
        "print('Validation Accuracy : {}'.format(accuracy_score(y_test, y_pred) * 100))"
      ],
      "execution_count": 0,
      "outputs": [
        {
          "output_type": "stream",
          "text": [
            "Validation Accuracy : 75.51020408163265\n"
          ],
          "name": "stdout"
        }
      ]
    },
    {
      "cell_type": "code",
      "metadata": {
        "id": "SbomkpdvX-pz",
        "colab_type": "code",
        "outputId": "015e7afd-0279-4ce5-aa27-69aa0e1b1fd6",
        "colab": {
          "base_uri": "https://localhost:8080/",
          "height": 295
        }
      },
      "source": [
        "# Confusion Matrix\n",
        "labels = np.unique(y_test)\n",
        "disp = plot_confusion_matrix(clf, x_test_scaled, y_test,\n",
        "                                 display_labels=labels,\n",
        "                                 cmap=plt.cm.Blues,\n",
        "                                 normalize=None)\n",
        "disp.ax_.set_title('Confusion matrix KNN')\n",
        "plt.show()"
      ],
      "execution_count": 0,
      "outputs": [
        {
          "output_type": "display_data",
          "data": {
            "image/png": "[encoded data removed]",
            "text/plain": [
              "<Figure size 432x288 with 2 Axes>"
            ]
          },
          "metadata": {
            "tags": [],
            "needs_background": "light"
          }
        }
      ]
    },
    {
      "cell_type": "markdown",
      "metadata": {
        "id": "NCfrirKM0Bho",
        "colab_type": "text"
      },
      "source": [
        "## 2 . **Support Vector Machine**"
      ]
    },
    {
      "cell_type": "code",
      "metadata": {
        "id": "LEkta8wZ0LVs",
        "colab_type": "code",
        "outputId": "79c86585-c9dc-4608-f085-036d42d9c131",
        "colab": {
          "base_uri": "https://localhost:8080/",
          "height": 85
        }
      },
      "source": [
        "from sklearn.svm import SVC\n",
        "# Fitting Model\n",
        "clf = SVC()\n",
        "clf.fit(x_train_scaled , y_train)"
      ],
      "execution_count": 0,
      "outputs": [
        {
          "output_type": "execute_result",
          "data": {
            "text/plain": [
              "SVC(C=1.0, break_ties=False, cache_size=200, class_weight=None, coef0=0.0,\n",
              "    decision_function_shape='ovr', degree=3, gamma='scale', kernel='rbf',\n",
              "    max_iter=-1, probability=False, random_state=None, shrinking=True,\n",
              "    tol=0.001, verbose=False)"
            ]
          },
          "metadata": {
            "tags": []
          },
          "execution_count": 521
        }
      ]
    },
    {
      "cell_type": "code",
      "metadata": {
        "id": "CVjbOAaN0hcP",
        "colab_type": "code",
        "colab": {}
      },
      "source": [
        "# Prediction\n",
        "y_pred = clf.predict(x_test_scaled)\n"
      ],
      "execution_count": 0,
      "outputs": []
    },
    {
      "cell_type": "code",
      "metadata": {
        "id": "9fAmtyFE0mtX",
        "colab_type": "code",
        "outputId": "1ab1c5a7-8345-4ae8-eebd-8cdf850bafc1",
        "colab": {
          "base_uri": "https://localhost:8080/",
          "height": 34
        }
      },
      "source": [
        "# Calculate  Validation accuracy\n",
        "from sklearn.metrics import accuracy_score\n",
        "print('Validation Accuracy : {}'.format(accuracy_score(y_test, y_pred) * 100))"
      ],
      "execution_count": 0,
      "outputs": [
        {
          "output_type": "stream",
          "text": [
            "Validation Accuracy : 79.59183673469387\n"
          ],
          "name": "stdout"
        }
      ]
    },
    {
      "cell_type": "code",
      "metadata": {
        "id": "rpG-Ys6MYoTs",
        "colab_type": "code",
        "outputId": "12faac03-a348-4d4f-ba66-0e2f00f1413f",
        "colab": {
          "base_uri": "https://localhost:8080/",
          "height": 295
        }
      },
      "source": [
        "# Confusion Matrix\n",
        "labels = np.unique(y_test)\n",
        "disp = plot_confusion_matrix(clf, x_test_scaled, y_test,\n",
        "                                 display_labels=labels,\n",
        "                                 cmap=plt.cm.Blues,\n",
        "                                 normalize=None)\n",
        "disp.ax_.set_title('Confusion matrix SVM')\n",
        "plt.show()"
      ],
      "execution_count": 0,
      "outputs": [
        {
          "output_type": "display_data",
          "data": {
            "image/png": "[encoded data removed]",
            "text/plain": [
              "<Figure size 432x288 with 2 Axes>"
            ]
          },
          "metadata": {
            "tags": [],
            "needs_background": "light"
          }
        }
      ]
    },
    {
      "cell_type": "markdown",
      "metadata": {
        "id": "HEC7jmjE1EXK",
        "colab_type": "text"
      },
      "source": [
        "## 3 . **Random Forest**\n"
      ]
    },
    {
      "cell_type": "code",
      "metadata": {
        "id": "qfMdGBE41Ibq",
        "colab_type": "code",
        "outputId": "07848cbf-ddc5-4999-a666-f84975a7024e",
        "colab": {
          "base_uri": "https://localhost:8080/",
          "height": 153
        }
      },
      "source": [
        "from sklearn.ensemble import RandomForestClassifier\n",
        "# Fitting Model\n",
        "clf  = RandomForestClassifier()\n",
        "clf.fit(x_train_scaled , y_train)"
      ],
      "execution_count": 0,
      "outputs": [
        {
          "output_type": "execute_result",
          "data": {
            "text/plain": [
              "RandomForestClassifier(bootstrap=True, ccp_alpha=0.0, class_weight=None,\n",
              "                       criterion='gini', max_depth=None, max_features='auto',\n",
              "                       max_leaf_nodes=None, max_samples=None,\n",
              "                       min_impurity_decrease=0.0, min_impurity_split=None,\n",
              "                       min_samples_leaf=1, min_samples_split=2,\n",
              "                       min_weight_fraction_leaf=0.0, n_estimators=100,\n",
              "                       n_jobs=None, oob_score=False, random_state=None,\n",
              "                       verbose=0, warm_start=False)"
            ]
          },
          "metadata": {
            "tags": []
          },
          "execution_count": 525
        }
      ]
    },
    {
      "cell_type": "code",
      "metadata": {
        "id": "wH9iXmPT1fiS",
        "colab_type": "code",
        "colab": {}
      },
      "source": [
        "# Prediction\n",
        "y_pred = clf.predict(x_test_scaled)"
      ],
      "execution_count": 0,
      "outputs": []
    },
    {
      "cell_type": "code",
      "metadata": {
        "id": "NshnCPqK1jOQ",
        "colab_type": "code",
        "outputId": "09067ba6-14ce-4a37-e8a3-e878d9c7d5cf",
        "colab": {
          "base_uri": "https://localhost:8080/",
          "height": 34
        }
      },
      "source": [
        "# Calculate  Validation accuracy\n",
        "from sklearn.metrics import accuracy_score\n",
        "print('Validation Accuracy : {}'.format(accuracy_score(y_test, y_pred) * 100))"
      ],
      "execution_count": 0,
      "outputs": [
        {
          "output_type": "stream",
          "text": [
            "Validation Accuracy : 77.55102040816327\n"
          ],
          "name": "stdout"
        }
      ]
    },
    {
      "cell_type": "code",
      "metadata": {
        "id": "52JPFhR8YqJi",
        "colab_type": "code",
        "outputId": "0f9a1b4d-ef92-4a2e-d8c6-6caf9eb7695c",
        "colab": {
          "base_uri": "https://localhost:8080/",
          "height": 295
        }
      },
      "source": [
        "# Confusion Matrix\n",
        "labels = np.unique(y_test)\n",
        "disp = plot_confusion_matrix(clf, x_test_scaled, y_test,\n",
        "                                 display_labels=labels,\n",
        "                                 cmap=plt.cm.Blues,\n",
        "                                 normalize=None)\n",
        "disp.ax_.set_title('Confusion matrix Random Forest')\n",
        "plt.show()"
      ],
      "execution_count": 0,
      "outputs": [
        {
          "output_type": "display_data",
          "data": {
            "image/png": "[encoded data removed]",
            "text/plain": [
              "<Figure size 432x288 with 2 Axes>"
            ]
          },
          "metadata": {
            "tags": [],
            "needs_background": "light"
          }
        }
      ]
    },
    {
      "cell_type": "markdown",
      "metadata": {
        "id": "fNQJia0Y13Nc",
        "colab_type": "text"
      },
      "source": [
        "## 4 . **RandomForest + Adaboost**"
      ]
    },
    {
      "cell_type": "code",
      "metadata": {
        "id": "iJRl5-yv1_g6",
        "colab_type": "code",
        "outputId": "ddd1e520-faa0-4437-d3fe-6d05053c8938",
        "colab": {
          "base_uri": "https://localhost:8080/",
          "height": 374
        }
      },
      "source": [
        "from sklearn.ensemble import AdaBoostClassifier\n",
        "# Fitting Model\n",
        "clf  = RandomForestClassifier()\n",
        "clf.fit(x_train_scaled , y_train)\n",
        "btd = AdaBoostClassifier(clf,\n",
        "                         algorithm=\"SAMME\",\n",
        "                         n_estimators=20, random_state=1\n",
        "                          )\n",
        "btd.fit(x_train_scaled , y_train)"
      ],
      "execution_count": 0,
      "outputs": [
        {
          "output_type": "execute_result",
          "data": {
            "text/plain": [
              "AdaBoostClassifier(algorithm='SAMME',\n",
              "                   base_estimator=RandomForestClassifier(bootstrap=True,\n",
              "                                                         ccp_alpha=0.0,\n",
              "                                                         class_weight=None,\n",
              "                                                         criterion='gini',\n",
              "                                                         max_depth=None,\n",
              "                                                         max_features='auto',\n",
              "                                                         max_leaf_nodes=None,\n",
              "                                                         max_samples=None,\n",
              "                                                         min_impurity_decrease=0.0,\n",
              "                                                         min_impurity_split=None,\n",
              "                                                         min_samples_leaf=1,\n",
              "                                                         min_samples_split=2,\n",
              "                                                         min_weight_fraction_leaf=0.0,\n",
              "                                                         n_estimators=100,\n",
              "                                                         n_jobs=None,\n",
              "                                                         oob_score=False,\n",
              "                                                         random_state=None,\n",
              "                                                         verbose=0,\n",
              "                                                         warm_start=False),\n",
              "                   learning_rate=1.0, n_estimators=20, random_state=1)"
            ]
          },
          "metadata": {
            "tags": []
          },
          "execution_count": 529
        }
      ]
    },
    {
      "cell_type": "code",
      "metadata": {
        "id": "BDfeQ6wo2iTS",
        "colab_type": "code",
        "colab": {}
      },
      "source": [
        "# Prediction\n",
        "y_pred = btd.predict(x_test_scaled)"
      ],
      "execution_count": 0,
      "outputs": []
    },
    {
      "cell_type": "code",
      "metadata": {
        "id": "GsH-L2FY2FTC",
        "colab_type": "code",
        "outputId": "c570608d-d282-4126-c85e-8c1eb3215bc6",
        "colab": {
          "base_uri": "https://localhost:8080/",
          "height": 34
        }
      },
      "source": [
        "# Calculate  Validation accuracy\n",
        "from sklearn.metrics import accuracy_score\n",
        "print('Validation Accuracy : {}'.format(accuracy_score(y_test, y_pred) * 100))"
      ],
      "execution_count": 0,
      "outputs": [
        {
          "output_type": "stream",
          "text": [
            "Validation Accuracy : 77.55102040816327\n"
          ],
          "name": "stdout"
        }
      ]
    },
    {
      "cell_type": "code",
      "metadata": {
        "id": "ad-pn4swYsFc",
        "colab_type": "code",
        "outputId": "20f1405d-a2f9-48bd-af23-9658120be127",
        "colab": {
          "base_uri": "https://localhost:8080/",
          "height": 295
        }
      },
      "source": [
        "# Confusion Matrix\n",
        "labels = np.unique(y_test)\n",
        "disp = plot_confusion_matrix(btd, x_test_scaled, y_test,\n",
        "                                 display_labels=labels,\n",
        "                                 cmap=plt.cm.Blues,\n",
        "                                 normalize=None)\n",
        "disp.ax_.set_title('Confusion matrix RandomForest + Adaboost')\n",
        "plt.show()"
      ],
      "execution_count": 0,
      "outputs": [
        {
          "output_type": "display_data",
          "data": {
            "image/png": "[encoded data removed]",
            "text/plain": [
              "<Figure size 432x288 with 2 Axes>"
            ]
          },
          "metadata": {
            "tags": [],
            "needs_background": "light"
          }
        }
      ]
    },
    {
      "cell_type": "markdown",
      "metadata": {
        "id": "kMCD8kwy3Wij",
        "colab_type": "text"
      },
      "source": [
        "## 5 . **Logisic Regression**"
      ]
    },
    {
      "cell_type": "code",
      "metadata": {
        "id": "hsq2OoIh3eWR",
        "colab_type": "code",
        "outputId": "7d6b1046-dca0-4060-acc3-ee334affe921",
        "colab": {
          "base_uri": "https://localhost:8080/",
          "height": 102
        }
      },
      "source": [
        "from sklearn.linear_model import LogisticRegression\n",
        "# Fitting Model\n",
        "clf = LogisticRegression()\n",
        "clf.fit(x_train_scaled , y_train)\n"
      ],
      "execution_count": 0,
      "outputs": [
        {
          "output_type": "execute_result",
          "data": {
            "text/plain": [
              "LogisticRegression(C=1.0, class_weight=None, dual=False, fit_intercept=True,\n",
              "                   intercept_scaling=1, l1_ratio=None, max_iter=100,\n",
              "                   multi_class='auto', n_jobs=None, penalty='l2',\n",
              "                   random_state=None, solver='lbfgs', tol=0.0001, verbose=0,\n",
              "                   warm_start=False)"
            ]
          },
          "metadata": {
            "tags": []
          },
          "execution_count": 533
        }
      ]
    },
    {
      "cell_type": "code",
      "metadata": {
        "id": "LG5leYsA34RG",
        "colab_type": "code",
        "colab": {}
      },
      "source": [
        "# Prediction\n",
        "y_pred = clf.predict(x_test_scaled)"
      ],
      "execution_count": 0,
      "outputs": []
    },
    {
      "cell_type": "code",
      "metadata": {
        "id": "eEetaPJ_377B",
        "colab_type": "code",
        "outputId": "8603fb09-dab8-4226-afdf-37ea5a55a05b",
        "colab": {
          "base_uri": "https://localhost:8080/",
          "height": 34
        }
      },
      "source": [
        "# Calculate  Validation accuracy\n",
        "from sklearn.metrics import accuracy_score\n",
        "print('Validation Accuracy : {}'.format(accuracy_score(y_test, y_pred) * 100))"
      ],
      "execution_count": 0,
      "outputs": [
        {
          "output_type": "stream",
          "text": [
            "Validation Accuracy : 79.59183673469387\n"
          ],
          "name": "stdout"
        }
      ]
    },
    {
      "cell_type": "code",
      "metadata": {
        "id": "deMsbRlCYu7w",
        "colab_type": "code",
        "outputId": "891c4e9b-1cc2-4c55-aede-f546bbf58df7",
        "colab": {
          "base_uri": "https://localhost:8080/",
          "height": 295
        }
      },
      "source": [
        "# Confusion Matrix\n",
        "labels = np.unique(y_test)\n",
        "disp = plot_confusion_matrix(clf, x_test_scaled, y_test,\n",
        "                                 display_labels=labels,\n",
        "                                 cmap=plt.cm.Blues,\n",
        "                                 normalize=None)\n",
        "disp.ax_.set_title('Confusion matrix Logistic Regression')\n",
        "plt.show()"
      ],
      "execution_count": 0,
      "outputs": [
        {
          "output_type": "display_data",
          "data": {
            "image/png": "[encoded data removed]",
            "text/plain": [
              "<Figure size 432x288 with 2 Axes>"
            ]
          },
          "metadata": {
            "tags": [],
            "needs_background": "light"
          }
        }
      ]
    },
    {
      "cell_type": "markdown",
      "metadata": {
        "id": "LXZbFRms3_y5",
        "colab_type": "text"
      },
      "source": [
        "## 6 . **Logistic Regression + Adaboost**"
      ]
    },
    {
      "cell_type": "code",
      "metadata": {
        "id": "nSaQqJog4H0u",
        "colab_type": "code",
        "outputId": "6015a39a-53ac-477d-91ee-d6c55e603fd1",
        "colab": {
          "base_uri": "https://localhost:8080/",
          "height": 255
        }
      },
      "source": [
        "# Fitting Model\n",
        "clf  = LogisticRegression()\n",
        "clf.fit(x_train_scaled , y_train)\n",
        "btd = AdaBoostClassifier(clf,\n",
        "                         algorithm=\"SAMME\",\n",
        "                         n_estimators=200, random_state=0\n",
        "                          )\n",
        "btd.fit(x_train_scaled , y_train)"
      ],
      "execution_count": 0,
      "outputs": [
        {
          "output_type": "execute_result",
          "data": {
            "text/plain": [
              "AdaBoostClassifier(algorithm='SAMME',\n",
              "                   base_estimator=LogisticRegression(C=1.0, class_weight=None,\n",
              "                                                     dual=False,\n",
              "                                                     fit_intercept=True,\n",
              "                                                     intercept_scaling=1,\n",
              "                                                     l1_ratio=None,\n",
              "                                                     max_iter=100,\n",
              "                                                     multi_class='auto',\n",
              "                                                     n_jobs=None, penalty='l2',\n",
              "                                                     random_state=None,\n",
              "                                                     solver='lbfgs', tol=0.0001,\n",
              "                                                     verbose=0,\n",
              "                                                     warm_start=False),\n",
              "                   learning_rate=1.0, n_estimators=200, random_state=0)"
            ]
          },
          "metadata": {
            "tags": []
          },
          "execution_count": 537
        }
      ]
    },
    {
      "cell_type": "code",
      "metadata": {
        "id": "6_wlbR2Q4VMN",
        "colab_type": "code",
        "colab": {}
      },
      "source": [
        "# Prediction\n",
        "y_pred = btd.predict(x_test_scaled)"
      ],
      "execution_count": 0,
      "outputs": []
    },
    {
      "cell_type": "code",
      "metadata": {
        "id": "9bPiJq454aOV",
        "colab_type": "code",
        "outputId": "e722b834-1194-4578-9f0d-ee9fb7293fe6",
        "colab": {
          "base_uri": "https://localhost:8080/",
          "height": 34
        }
      },
      "source": [
        "# Calculate  Validation accuracy\n",
        "from sklearn.metrics import accuracy_score\n",
        "print('Validation Accuracy : {}'.format(accuracy_score(y_test, y_pred) * 100))"
      ],
      "execution_count": 0,
      "outputs": [
        {
          "output_type": "stream",
          "text": [
            "Validation Accuracy : 81.63265306122449\n"
          ],
          "name": "stdout"
        }
      ]
    },
    {
      "cell_type": "code",
      "metadata": {
        "id": "A3mhqaccYxH1",
        "colab_type": "code",
        "outputId": "35e33a2a-1d42-4aa4-931d-217d4b070a3a",
        "colab": {
          "base_uri": "https://localhost:8080/",
          "height": 295
        }
      },
      "source": [
        "# Confusion Matrix\n",
        "labels = np.unique(y_test)\n",
        "disp = plot_confusion_matrix(btd, x_test_scaled, y_test,\n",
        "                                 display_labels=labels,\n",
        "                                 cmap=plt.cm.Blues,\n",
        "                                 normalize=None)\n",
        "disp.ax_.set_title('Confusion matrix Logistic Regression + Adaboost')\n",
        "plt.show()"
      ],
      "execution_count": 0,
      "outputs": [
        {
          "output_type": "display_data",
          "data": {
            "image/png": "[encoded data removed]",
            "text/plain": [
              "<Figure size 432x288 with 2 Axes>"
            ]
          },
          "metadata": {
            "tags": [],
            "needs_background": "light"
          }
        }
      ]
    },
    {
      "cell_type": "markdown",
      "metadata": {
        "id": "ml6Uq1CS5jCE",
        "colab_type": "text"
      },
      "source": [
        "## 7 . **Decision Tree**"
      ]
    },
    {
      "cell_type": "code",
      "metadata": {
        "id": "5q6JmuVK5nlw",
        "colab_type": "code",
        "outputId": "7a1d82f6-acf5-4b74-9d7d-988e7219f99d",
        "colab": {
          "base_uri": "https://localhost:8080/",
          "height": 119
        }
      },
      "source": [
        "from sklearn.tree import DecisionTreeClassifier\n",
        "# Fitting Model\n",
        "clf  = DecisionTreeClassifier()\n",
        "clf.fit(x_train_scaled , y_train)"
      ],
      "execution_count": 0,
      "outputs": [
        {
          "output_type": "execute_result",
          "data": {
            "text/plain": [
              "DecisionTreeClassifier(ccp_alpha=0.0, class_weight=None, criterion='gini',\n",
              "                       max_depth=None, max_features=None, max_leaf_nodes=None,\n",
              "                       min_impurity_decrease=0.0, min_impurity_split=None,\n",
              "                       min_samples_leaf=1, min_samples_split=2,\n",
              "                       min_weight_fraction_leaf=0.0, presort='deprecated',\n",
              "                       random_state=None, splitter='best')"
            ]
          },
          "metadata": {
            "tags": []
          },
          "execution_count": 541
        }
      ]
    },
    {
      "cell_type": "code",
      "metadata": {
        "id": "pzp4ADKB6PAq",
        "colab_type": "code",
        "colab": {}
      },
      "source": [
        "# Prediction\n",
        "y_pred = btd.predict(x_test_scaled)"
      ],
      "execution_count": 0,
      "outputs": []
    },
    {
      "cell_type": "code",
      "metadata": {
        "id": "8z198Df56TCs",
        "colab_type": "code",
        "outputId": "4645a3d8-bfe0-4e16-cf69-6a42fff96081",
        "colab": {
          "base_uri": "https://localhost:8080/",
          "height": 34
        }
      },
      "source": [
        "# Calculate  Validation accuracy\n",
        "from sklearn.metrics import accuracy_score\n",
        "print('Validation Accuracy : {}'.format(accuracy_score(y_test, y_pred) * 100))"
      ],
      "execution_count": 0,
      "outputs": [
        {
          "output_type": "stream",
          "text": [
            "Validation Accuracy : 81.63265306122449\n"
          ],
          "name": "stdout"
        }
      ]
    },
    {
      "cell_type": "code",
      "metadata": {
        "id": "7MUlH9KYYz3p",
        "colab_type": "code",
        "outputId": "40e5b435-1cfd-464c-ab2a-04d316e27c74",
        "colab": {
          "base_uri": "https://localhost:8080/",
          "height": 295
        }
      },
      "source": [
        "# Confusion Matrix\n",
        "labels = np.unique(y_test)\n",
        "disp = plot_confusion_matrix(clf, x_test_scaled, y_test,\n",
        "                                 display_labels=labels,\n",
        "                                 cmap=plt.cm.Blues,\n",
        "                                 normalize=None)\n",
        "disp.ax_.set_title('Confusion matrix Decision Tree')\n",
        "plt.show()"
      ],
      "execution_count": 0,
      "outputs": [
        {
          "output_type": "display_data",
          "data": {
            "image/png": "[encoded data removed]",
            "text/plain": [
              "<Figure size 432x288 with 2 Axes>"
            ]
          },
          "metadata": {
            "tags": [],
            "needs_background": "light"
          }
        }
      ]
    },
    {
      "cell_type": "markdown",
      "metadata": {
        "id": "33eLktFG6tP1",
        "colab_type": "text"
      },
      "source": [
        "# **Neural Network**\n"
      ]
    },
    {
      "cell_type": "code",
      "metadata": {
        "id": "lpJ7-PEc61Wm",
        "colab_type": "code",
        "outputId": "93c0064b-efcf-4f7c-e124-bdfcbe6d513f",
        "colab": {
          "base_uri": "https://localhost:8080/",
          "height": 139
        }
      },
      "source": [
        "# Initialize Model and Layers\n",
        "classifier      = Sequential()\n",
        "classifier.add(Dense(7 , init='uniform' , activation= 'sigmoid' , input_shape=(13,)))\n",
        "classifier.add(Dense(7 , init='uniform' , activation= 'sigmoid' ))\n",
        "classifier.add(Dense(1 , init='uniform' , activation= 'sigmoid' ))\n"
      ],
      "execution_count": 0,
      "outputs": [
        {
          "output_type": "stream",
          "text": [
            "/usr/local/lib/python3.6/dist-packages/ipykernel_launcher.py:2: UserWarning: Update your `Dense` call to the Keras 2 API: `Dense(7, activation=\"sigmoid\", input_shape=(13,), kernel_initializer=\"uniform\")`\n",
            "  \n",
            "/usr/local/lib/python3.6/dist-packages/ipykernel_launcher.py:3: UserWarning: Update your `Dense` call to the Keras 2 API: `Dense(7, activation=\"sigmoid\", kernel_initializer=\"uniform\")`\n",
            "  This is separate from the ipykernel package so we can avoid doing imports until\n",
            "/usr/local/lib/python3.6/dist-packages/ipykernel_launcher.py:4: UserWarning: Update your `Dense` call to the Keras 2 API: `Dense(1, activation=\"sigmoid\", kernel_initializer=\"uniform\")`\n",
            "  after removing the cwd from sys.path.\n"
          ],
          "name": "stderr"
        }
      ]
    },
    {
      "cell_type": "code",
      "metadata": {
        "id": "zdMFpyyd7VIN",
        "colab_type": "code",
        "outputId": "4e978e83-8ad7-4703-b0be-f71b4c1f5a14",
        "colab": {
          "base_uri": "https://localhost:8080/",
          "height": 1000
        }
      },
      "source": [
        "# Compile \n",
        "classifier.compile(optimizer='adam' , loss='binary_crossentropy', metrics=['accuracy'])\n",
        "# Fitting ANN to Training set\n",
        "classifier.fit(x_train_scaled , y_train , batch_size=10 , nb_epoch=200, validation_split=0.2)"
      ],
      "execution_count": 0,
      "outputs": [
        {
          "output_type": "stream",
          "text": [
            "/usr/local/lib/python3.6/dist-packages/ipykernel_launcher.py:3: UserWarning: The `nb_epoch` argument in `fit` has been renamed `epochs`.\n",
            "  This is separate from the ipykernel package so we can avoid doing imports until\n"
          ],
          "name": "stderr"
        },
        {
          "output_type": "stream",
          "text": [
            "Train on 154 samples, validate on 39 samples\n",
            "Epoch 1/200\n",
            "154/154 [==============================] - 0s 781us/step - loss: 0.6938 - accuracy: 0.4675 - val_loss: 0.6925 - val_accuracy: 0.5897\n",
            "Epoch 2/200\n",
            "154/154 [==============================] - 0s 144us/step - loss: 0.6932 - accuracy: 0.5390 - val_loss: 0.6938 - val_accuracy: 0.4103\n",
            "Epoch 3/200\n",
            "154/154 [==============================] - 0s 156us/step - loss: 0.6927 - accuracy: 0.5325 - val_loss: 0.6953 - val_accuracy: 0.4103\n",
            "Epoch 4/200\n",
            "154/154 [==============================] - 0s 159us/step - loss: 0.6924 - accuracy: 0.5325 - val_loss: 0.6968 - val_accuracy: 0.4103\n",
            "Epoch 5/200\n",
            "154/154 [==============================] - 0s 151us/step - loss: 0.6921 - accuracy: 0.5325 - val_loss: 0.6965 - val_accuracy: 0.4103\n",
            "Epoch 6/200\n",
            "154/154 [==============================] - 0s 176us/step - loss: 0.6917 - accuracy: 0.5325 - val_loss: 0.6984 - val_accuracy: 0.4103\n",
            "Epoch 7/200\n",
            "154/154 [==============================] - 0s 146us/step - loss: 0.6912 - accuracy: 0.5325 - val_loss: 0.6998 - val_accuracy: 0.4103\n",
            "Epoch 8/200\n",
            "154/154 [==============================] - 0s 152us/step - loss: 0.6907 - accuracy: 0.5325 - val_loss: 0.6998 - val_accuracy: 0.4103\n",
            "Epoch 9/200\n",
            "154/154 [==============================] - 0s 153us/step - loss: 0.6903 - accuracy: 0.5325 - val_loss: 0.7003 - val_accuracy: 0.4103\n",
            "Epoch 10/200\n",
            "154/154 [==============================] - 0s 198us/step - loss: 0.6897 - accuracy: 0.5325 - val_loss: 0.7011 - val_accuracy: 0.4103\n",
            "Epoch 11/200\n",
            "154/154 [==============================] - 0s 155us/step - loss: 0.6892 - accuracy: 0.5325 - val_loss: 0.7008 - val_accuracy: 0.4103\n",
            "Epoch 12/200\n",
            "154/154 [==============================] - 0s 150us/step - loss: 0.6884 - accuracy: 0.5325 - val_loss: 0.7014 - val_accuracy: 0.4103\n",
            "Epoch 13/200\n",
            "154/154 [==============================] - 0s 151us/step - loss: 0.6875 - accuracy: 0.5325 - val_loss: 0.7012 - val_accuracy: 0.4103\n",
            "Epoch 14/200\n",
            "154/154 [==============================] - 0s 149us/step - loss: 0.6863 - accuracy: 0.5325 - val_loss: 0.7009 - val_accuracy: 0.4103\n",
            "Epoch 15/200\n",
            "154/154 [==============================] - 0s 158us/step - loss: 0.6853 - accuracy: 0.5325 - val_loss: 0.7012 - val_accuracy: 0.4103\n",
            "Epoch 16/200\n",
            "154/154 [==============================] - 0s 155us/step - loss: 0.6836 - accuracy: 0.5325 - val_loss: 0.7001 - val_accuracy: 0.4103\n",
            "Epoch 17/200\n",
            "154/154 [==============================] - 0s 151us/step - loss: 0.6820 - accuracy: 0.5325 - val_loss: 0.6978 - val_accuracy: 0.4103\n",
            "Epoch 18/200\n",
            "154/154 [==============================] - 0s 182us/step - loss: 0.6801 - accuracy: 0.5325 - val_loss: 0.6951 - val_accuracy: 0.4103\n",
            "Epoch 19/200\n",
            "154/154 [==============================] - 0s 174us/step - loss: 0.6777 - accuracy: 0.5325 - val_loss: 0.6944 - val_accuracy: 0.4103\n",
            "Epoch 20/200\n",
            "154/154 [==============================] - 0s 158us/step - loss: 0.6747 - accuracy: 0.5325 - val_loss: 0.6927 - val_accuracy: 0.4103\n",
            "Epoch 21/200\n",
            "154/154 [==============================] - 0s 234us/step - loss: 0.6716 - accuracy: 0.5325 - val_loss: 0.6904 - val_accuracy: 0.4103\n",
            "Epoch 22/200\n",
            "154/154 [==============================] - 0s 139us/step - loss: 0.6680 - accuracy: 0.5325 - val_loss: 0.6873 - val_accuracy: 0.4103\n",
            "Epoch 23/200\n",
            "154/154 [==============================] - 0s 156us/step - loss: 0.6638 - accuracy: 0.5325 - val_loss: 0.6836 - val_accuracy: 0.4103\n",
            "Epoch 24/200\n",
            "154/154 [==============================] - 0s 154us/step - loss: 0.6591 - accuracy: 0.5325 - val_loss: 0.6792 - val_accuracy: 0.4103\n",
            "Epoch 25/200\n",
            "154/154 [==============================] - 0s 151us/step - loss: 0.6539 - accuracy: 0.5325 - val_loss: 0.6733 - val_accuracy: 0.4103\n",
            "Epoch 26/200\n",
            "154/154 [==============================] - 0s 151us/step - loss: 0.6484 - accuracy: 0.5325 - val_loss: 0.6680 - val_accuracy: 0.4103\n",
            "Epoch 27/200\n",
            "154/154 [==============================] - 0s 144us/step - loss: 0.6418 - accuracy: 0.5519 - val_loss: 0.6605 - val_accuracy: 0.5897\n",
            "Epoch 28/200\n",
            "154/154 [==============================] - 0s 149us/step - loss: 0.6348 - accuracy: 0.6234 - val_loss: 0.6540 - val_accuracy: 0.6667\n",
            "Epoch 29/200\n",
            "154/154 [==============================] - 0s 146us/step - loss: 0.6282 - accuracy: 0.6883 - val_loss: 0.6472 - val_accuracy: 0.7436\n",
            "Epoch 30/200\n",
            "154/154 [==============================] - 0s 149us/step - loss: 0.6202 - accuracy: 0.7338 - val_loss: 0.6386 - val_accuracy: 0.7692\n",
            "Epoch 31/200\n",
            "154/154 [==============================] - 0s 154us/step - loss: 0.6122 - accuracy: 0.7662 - val_loss: 0.6307 - val_accuracy: 0.8205\n",
            "Epoch 32/200\n",
            "154/154 [==============================] - 0s 149us/step - loss: 0.6044 - accuracy: 0.7857 - val_loss: 0.6236 - val_accuracy: 0.8205\n",
            "Epoch 33/200\n",
            "154/154 [==============================] - 0s 153us/step - loss: 0.5963 - accuracy: 0.8182 - val_loss: 0.6140 - val_accuracy: 0.8205\n",
            "Epoch 34/200\n",
            "154/154 [==============================] - 0s 160us/step - loss: 0.5880 - accuracy: 0.8312 - val_loss: 0.6050 - val_accuracy: 0.8462\n",
            "Epoch 35/200\n",
            "154/154 [==============================] - 0s 160us/step - loss: 0.5795 - accuracy: 0.8312 - val_loss: 0.5968 - val_accuracy: 0.8462\n",
            "Epoch 36/200\n",
            "154/154 [==============================] - 0s 182us/step - loss: 0.5715 - accuracy: 0.8312 - val_loss: 0.5868 - val_accuracy: 0.8462\n",
            "Epoch 37/200\n",
            "154/154 [==============================] - 0s 160us/step - loss: 0.5631 - accuracy: 0.8312 - val_loss: 0.5793 - val_accuracy: 0.8462\n",
            "Epoch 38/200\n",
            "154/154 [==============================] - 0s 160us/step - loss: 0.5544 - accuracy: 0.8377 - val_loss: 0.5711 - val_accuracy: 0.8462\n",
            "Epoch 39/200\n",
            "154/154 [==============================] - 0s 153us/step - loss: 0.5467 - accuracy: 0.8377 - val_loss: 0.5639 - val_accuracy: 0.8462\n",
            "Epoch 40/200\n",
            "154/154 [==============================] - 0s 156us/step - loss: 0.5384 - accuracy: 0.8377 - val_loss: 0.5556 - val_accuracy: 0.8462\n",
            "Epoch 41/200\n",
            "154/154 [==============================] - 0s 161us/step - loss: 0.5306 - accuracy: 0.8312 - val_loss: 0.5477 - val_accuracy: 0.8205\n",
            "Epoch 42/200\n",
            "154/154 [==============================] - 0s 174us/step - loss: 0.5227 - accuracy: 0.8312 - val_loss: 0.5397 - val_accuracy: 0.8205\n",
            "Epoch 43/200\n",
            "154/154 [==============================] - 0s 168us/step - loss: 0.5150 - accuracy: 0.8312 - val_loss: 0.5325 - val_accuracy: 0.8205\n",
            "Epoch 44/200\n",
            "154/154 [==============================] - 0s 156us/step - loss: 0.5079 - accuracy: 0.8312 - val_loss: 0.5257 - val_accuracy: 0.8205\n",
            "Epoch 45/200\n",
            "154/154 [==============================] - 0s 147us/step - loss: 0.5004 - accuracy: 0.8377 - val_loss: 0.5186 - val_accuracy: 0.8205\n",
            "Epoch 46/200\n",
            "154/154 [==============================] - 0s 154us/step - loss: 0.4936 - accuracy: 0.8377 - val_loss: 0.5121 - val_accuracy: 0.8205\n",
            "Epoch 47/200\n",
            "154/154 [==============================] - 0s 155us/step - loss: 0.4872 - accuracy: 0.8377 - val_loss: 0.5065 - val_accuracy: 0.8205\n",
            "Epoch 48/200\n",
            "154/154 [==============================] - 0s 190us/step - loss: 0.4809 - accuracy: 0.8312 - val_loss: 0.5006 - val_accuracy: 0.8205\n",
            "Epoch 49/200\n",
            "154/154 [==============================] - 0s 213us/step - loss: 0.4750 - accuracy: 0.8312 - val_loss: 0.4949 - val_accuracy: 0.7949\n",
            "Epoch 50/200\n",
            "154/154 [==============================] - 0s 154us/step - loss: 0.4693 - accuracy: 0.8312 - val_loss: 0.4892 - val_accuracy: 0.7692\n",
            "Epoch 51/200\n",
            "154/154 [==============================] - 0s 147us/step - loss: 0.4639 - accuracy: 0.8377 - val_loss: 0.4841 - val_accuracy: 0.7692\n",
            "Epoch 52/200\n",
            "154/154 [==============================] - 0s 145us/step - loss: 0.4584 - accuracy: 0.8442 - val_loss: 0.4797 - val_accuracy: 0.7692\n",
            "Epoch 53/200\n",
            "154/154 [==============================] - 0s 153us/step - loss: 0.4533 - accuracy: 0.8442 - val_loss: 0.4753 - val_accuracy: 0.7692\n",
            "Epoch 54/200\n",
            "154/154 [==============================] - 0s 154us/step - loss: 0.4482 - accuracy: 0.8442 - val_loss: 0.4708 - val_accuracy: 0.7692\n",
            "Epoch 55/200\n",
            "154/154 [==============================] - 0s 156us/step - loss: 0.4441 - accuracy: 0.8442 - val_loss: 0.4676 - val_accuracy: 0.7692\n",
            "Epoch 56/200\n",
            "154/154 [==============================] - 0s 155us/step - loss: 0.4392 - accuracy: 0.8442 - val_loss: 0.4632 - val_accuracy: 0.7692\n",
            "Epoch 57/200\n",
            "154/154 [==============================] - 0s 158us/step - loss: 0.4351 - accuracy: 0.8442 - val_loss: 0.4587 - val_accuracy: 0.7692\n",
            "Epoch 58/200\n",
            "154/154 [==============================] - 0s 159us/step - loss: 0.4305 - accuracy: 0.8442 - val_loss: 0.4562 - val_accuracy: 0.7692\n",
            "Epoch 59/200\n",
            "154/154 [==============================] - 0s 148us/step - loss: 0.4269 - accuracy: 0.8442 - val_loss: 0.4535 - val_accuracy: 0.7692\n",
            "Epoch 60/200\n",
            "154/154 [==============================] - 0s 154us/step - loss: 0.4228 - accuracy: 0.8442 - val_loss: 0.4502 - val_accuracy: 0.7692\n",
            "Epoch 61/200\n",
            "154/154 [==============================] - 0s 154us/step - loss: 0.4198 - accuracy: 0.8506 - val_loss: 0.4469 - val_accuracy: 0.7692\n",
            "Epoch 62/200\n",
            "154/154 [==============================] - 0s 160us/step - loss: 0.4161 - accuracy: 0.8506 - val_loss: 0.4435 - val_accuracy: 0.7949\n",
            "Epoch 63/200\n",
            "154/154 [==============================] - 0s 154us/step - loss: 0.4126 - accuracy: 0.8506 - val_loss: 0.4406 - val_accuracy: 0.7949\n",
            "Epoch 64/200\n",
            "154/154 [==============================] - 0s 189us/step - loss: 0.4093 - accuracy: 0.8506 - val_loss: 0.4377 - val_accuracy: 0.7692\n",
            "Epoch 65/200\n",
            "154/154 [==============================] - 0s 159us/step - loss: 0.4069 - accuracy: 0.8571 - val_loss: 0.4354 - val_accuracy: 0.7949\n",
            "Epoch 66/200\n",
            "154/154 [==============================] - 0s 158us/step - loss: 0.4032 - accuracy: 0.8571 - val_loss: 0.4337 - val_accuracy: 0.7692\n",
            "Epoch 67/200\n",
            "154/154 [==============================] - 0s 158us/step - loss: 0.4006 - accuracy: 0.8571 - val_loss: 0.4307 - val_accuracy: 0.7949\n",
            "Epoch 68/200\n",
            "154/154 [==============================] - 0s 154us/step - loss: 0.3978 - accuracy: 0.8636 - val_loss: 0.4292 - val_accuracy: 0.7949\n",
            "Epoch 69/200\n",
            "154/154 [==============================] - 0s 153us/step - loss: 0.3955 - accuracy: 0.8636 - val_loss: 0.4264 - val_accuracy: 0.7949\n",
            "Epoch 70/200\n",
            "154/154 [==============================] - 0s 156us/step - loss: 0.3933 - accuracy: 0.8636 - val_loss: 0.4241 - val_accuracy: 0.7949\n",
            "Epoch 71/200\n",
            "154/154 [==============================] - 0s 153us/step - loss: 0.3905 - accuracy: 0.8636 - val_loss: 0.4231 - val_accuracy: 0.7949\n",
            "Epoch 72/200\n",
            "154/154 [==============================] - 0s 147us/step - loss: 0.3886 - accuracy: 0.8636 - val_loss: 0.4212 - val_accuracy: 0.7949\n",
            "Epoch 73/200\n",
            "154/154 [==============================] - 0s 159us/step - loss: 0.3865 - accuracy: 0.8636 - val_loss: 0.4196 - val_accuracy: 0.7949\n",
            "Epoch 74/200\n",
            "154/154 [==============================] - 0s 156us/step - loss: 0.3848 - accuracy: 0.8636 - val_loss: 0.4182 - val_accuracy: 0.7949\n",
            "Epoch 75/200\n",
            "154/154 [==============================] - 0s 167us/step - loss: 0.3829 - accuracy: 0.8636 - val_loss: 0.4165 - val_accuracy: 0.7949\n",
            "Epoch 76/200\n",
            "154/154 [==============================] - 0s 168us/step - loss: 0.3808 - accuracy: 0.8571 - val_loss: 0.4154 - val_accuracy: 0.7949\n",
            "Epoch 77/200\n",
            "154/154 [==============================] - 0s 143us/step - loss: 0.3790 - accuracy: 0.8571 - val_loss: 0.4144 - val_accuracy: 0.7949\n",
            "Epoch 78/200\n",
            "154/154 [==============================] - 0s 153us/step - loss: 0.3774 - accuracy: 0.8636 - val_loss: 0.4126 - val_accuracy: 0.7949\n",
            "Epoch 79/200\n",
            "154/154 [==============================] - 0s 167us/step - loss: 0.3755 - accuracy: 0.8636 - val_loss: 0.4118 - val_accuracy: 0.7949\n",
            "Epoch 80/200\n",
            "154/154 [==============================] - 0s 154us/step - loss: 0.3744 - accuracy: 0.8636 - val_loss: 0.4114 - val_accuracy: 0.7949\n",
            "Epoch 81/200\n",
            "154/154 [==============================] - 0s 164us/step - loss: 0.3732 - accuracy: 0.8636 - val_loss: 0.4098 - val_accuracy: 0.7949\n",
            "Epoch 82/200\n",
            "154/154 [==============================] - 0s 157us/step - loss: 0.3714 - accuracy: 0.8636 - val_loss: 0.4094 - val_accuracy: 0.7949\n",
            "Epoch 83/200\n",
            "154/154 [==============================] - 0s 159us/step - loss: 0.3699 - accuracy: 0.8636 - val_loss: 0.4089 - val_accuracy: 0.7949\n",
            "Epoch 84/200\n",
            "154/154 [==============================] - 0s 152us/step - loss: 0.3690 - accuracy: 0.8636 - val_loss: 0.4079 - val_accuracy: 0.7949\n",
            "Epoch 85/200\n",
            "154/154 [==============================] - 0s 153us/step - loss: 0.3678 - accuracy: 0.8636 - val_loss: 0.4067 - val_accuracy: 0.7949\n",
            "Epoch 86/200\n",
            "154/154 [==============================] - 0s 156us/step - loss: 0.3662 - accuracy: 0.8636 - val_loss: 0.4068 - val_accuracy: 0.7949\n",
            "Epoch 87/200\n",
            "154/154 [==============================] - 0s 158us/step - loss: 0.3652 - accuracy: 0.8636 - val_loss: 0.4064 - val_accuracy: 0.7949\n",
            "Epoch 88/200\n",
            "154/154 [==============================] - 0s 163us/step - loss: 0.3643 - accuracy: 0.8636 - val_loss: 0.4058 - val_accuracy: 0.7949\n",
            "Epoch 89/200\n",
            "154/154 [==============================] - 0s 189us/step - loss: 0.3633 - accuracy: 0.8636 - val_loss: 0.4056 - val_accuracy: 0.7949\n",
            "Epoch 90/200\n",
            "154/154 [==============================] - 0s 158us/step - loss: 0.3620 - accuracy: 0.8636 - val_loss: 0.4040 - val_accuracy: 0.7949\n",
            "Epoch 91/200\n",
            "154/154 [==============================] - 0s 143us/step - loss: 0.3611 - accuracy: 0.8636 - val_loss: 0.4030 - val_accuracy: 0.7949\n",
            "Epoch 92/200\n",
            "154/154 [==============================] - 0s 147us/step - loss: 0.3600 - accuracy: 0.8636 - val_loss: 0.4031 - val_accuracy: 0.7949\n",
            "Epoch 93/200\n",
            "154/154 [==============================] - 0s 153us/step - loss: 0.3591 - accuracy: 0.8636 - val_loss: 0.4025 - val_accuracy: 0.8205\n",
            "Epoch 94/200\n",
            "154/154 [==============================] - 0s 152us/step - loss: 0.3582 - accuracy: 0.8636 - val_loss: 0.4009 - val_accuracy: 0.8205\n",
            "Epoch 95/200\n",
            "154/154 [==============================] - 0s 143us/step - loss: 0.3573 - accuracy: 0.8636 - val_loss: 0.4003 - val_accuracy: 0.8205\n",
            "Epoch 96/200\n",
            "154/154 [==============================] - 0s 154us/step - loss: 0.3571 - accuracy: 0.8636 - val_loss: 0.3994 - val_accuracy: 0.8205\n",
            "Epoch 97/200\n",
            "154/154 [==============================] - 0s 157us/step - loss: 0.3560 - accuracy: 0.8636 - val_loss: 0.3996 - val_accuracy: 0.8205\n",
            "Epoch 98/200\n",
            "154/154 [==============================] - 0s 160us/step - loss: 0.3549 - accuracy: 0.8636 - val_loss: 0.3994 - val_accuracy: 0.7949\n",
            "Epoch 99/200\n",
            "154/154 [==============================] - 0s 160us/step - loss: 0.3545 - accuracy: 0.8636 - val_loss: 0.3991 - val_accuracy: 0.7949\n",
            "Epoch 100/200\n",
            "154/154 [==============================] - 0s 151us/step - loss: 0.3533 - accuracy: 0.8636 - val_loss: 0.3980 - val_accuracy: 0.7949\n",
            "Epoch 101/200\n",
            "154/154 [==============================] - 0s 149us/step - loss: 0.3533 - accuracy: 0.8636 - val_loss: 0.3972 - val_accuracy: 0.8205\n",
            "Epoch 102/200\n",
            "154/154 [==============================] - 0s 148us/step - loss: 0.3523 - accuracy: 0.8636 - val_loss: 0.3968 - val_accuracy: 0.7949\n",
            "Epoch 103/200\n",
            "154/154 [==============================] - 0s 183us/step - loss: 0.3519 - accuracy: 0.8571 - val_loss: 0.3969 - val_accuracy: 0.7949\n",
            "Epoch 104/200\n",
            "154/154 [==============================] - 0s 152us/step - loss: 0.3514 - accuracy: 0.8571 - val_loss: 0.3973 - val_accuracy: 0.7949\n",
            "Epoch 105/200\n",
            "154/154 [==============================] - 0s 148us/step - loss: 0.3504 - accuracy: 0.8636 - val_loss: 0.3958 - val_accuracy: 0.7949\n",
            "Epoch 106/200\n",
            "154/154 [==============================] - 0s 152us/step - loss: 0.3499 - accuracy: 0.8636 - val_loss: 0.3960 - val_accuracy: 0.7949\n",
            "Epoch 107/200\n",
            "154/154 [==============================] - 0s 148us/step - loss: 0.3491 - accuracy: 0.8636 - val_loss: 0.3959 - val_accuracy: 0.7949\n",
            "Epoch 108/200\n",
            "154/154 [==============================] - 0s 156us/step - loss: 0.3487 - accuracy: 0.8571 - val_loss: 0.3951 - val_accuracy: 0.7949\n",
            "Epoch 109/200\n",
            "154/154 [==============================] - 0s 152us/step - loss: 0.3482 - accuracy: 0.8571 - val_loss: 0.3945 - val_accuracy: 0.7949\n",
            "Epoch 110/200\n",
            "154/154 [==============================] - 0s 156us/step - loss: 0.3478 - accuracy: 0.8571 - val_loss: 0.3944 - val_accuracy: 0.7949\n",
            "Epoch 111/200\n",
            "154/154 [==============================] - 0s 153us/step - loss: 0.3474 - accuracy: 0.8636 - val_loss: 0.3937 - val_accuracy: 0.7949\n",
            "Epoch 112/200\n",
            "154/154 [==============================] - 0s 152us/step - loss: 0.3467 - accuracy: 0.8636 - val_loss: 0.3938 - val_accuracy: 0.7949\n",
            "Epoch 113/200\n",
            "154/154 [==============================] - 0s 154us/step - loss: 0.3463 - accuracy: 0.8636 - val_loss: 0.3934 - val_accuracy: 0.7949\n",
            "Epoch 114/200\n",
            "154/154 [==============================] - 0s 158us/step - loss: 0.3461 - accuracy: 0.8636 - val_loss: 0.3937 - val_accuracy: 0.7949\n",
            "Epoch 115/200\n",
            "154/154 [==============================] - 0s 157us/step - loss: 0.3459 - accuracy: 0.8636 - val_loss: 0.3932 - val_accuracy: 0.7949\n",
            "Epoch 116/200\n",
            "154/154 [==============================] - 0s 164us/step - loss: 0.3451 - accuracy: 0.8701 - val_loss: 0.3930 - val_accuracy: 0.7949\n",
            "Epoch 117/200\n",
            "154/154 [==============================] - 0s 156us/step - loss: 0.3446 - accuracy: 0.8701 - val_loss: 0.3923 - val_accuracy: 0.7949\n",
            "Epoch 118/200\n",
            "154/154 [==============================] - 0s 147us/step - loss: 0.3440 - accuracy: 0.8636 - val_loss: 0.3923 - val_accuracy: 0.7949\n",
            "Epoch 119/200\n",
            "154/154 [==============================] - 0s 174us/step - loss: 0.3438 - accuracy: 0.8636 - val_loss: 0.3929 - val_accuracy: 0.7949\n",
            "Epoch 120/200\n",
            "154/154 [==============================] - 0s 147us/step - loss: 0.3434 - accuracy: 0.8636 - val_loss: 0.3917 - val_accuracy: 0.7949\n",
            "Epoch 121/200\n",
            "154/154 [==============================] - 0s 148us/step - loss: 0.3429 - accuracy: 0.8636 - val_loss: 0.3915 - val_accuracy: 0.7949\n",
            "Epoch 122/200\n",
            "154/154 [==============================] - 0s 154us/step - loss: 0.3431 - accuracy: 0.8636 - val_loss: 0.3911 - val_accuracy: 0.7949\n",
            "Epoch 123/200\n",
            "154/154 [==============================] - 0s 166us/step - loss: 0.3423 - accuracy: 0.8636 - val_loss: 0.3913 - val_accuracy: 0.7949\n",
            "Epoch 124/200\n",
            "154/154 [==============================] - 0s 144us/step - loss: 0.3421 - accuracy: 0.8636 - val_loss: 0.3911 - val_accuracy: 0.7949\n",
            "Epoch 125/200\n",
            "154/154 [==============================] - 0s 153us/step - loss: 0.3418 - accuracy: 0.8636 - val_loss: 0.3910 - val_accuracy: 0.7949\n",
            "Epoch 126/200\n",
            "154/154 [==============================] - 0s 154us/step - loss: 0.3415 - accuracy: 0.8636 - val_loss: 0.3905 - val_accuracy: 0.7949\n",
            "Epoch 127/200\n",
            "154/154 [==============================] - 0s 153us/step - loss: 0.3415 - accuracy: 0.8636 - val_loss: 0.3919 - val_accuracy: 0.7949\n",
            "Epoch 128/200\n",
            "154/154 [==============================] - 0s 155us/step - loss: 0.3409 - accuracy: 0.8701 - val_loss: 0.3918 - val_accuracy: 0.7949\n",
            "Epoch 129/200\n",
            "154/154 [==============================] - 0s 193us/step - loss: 0.3407 - accuracy: 0.8701 - val_loss: 0.3913 - val_accuracy: 0.7949\n",
            "Epoch 130/200\n",
            "154/154 [==============================] - 0s 150us/step - loss: 0.3403 - accuracy: 0.8701 - val_loss: 0.3907 - val_accuracy: 0.7949\n",
            "Epoch 131/200\n",
            "154/154 [==============================] - 0s 153us/step - loss: 0.3399 - accuracy: 0.8701 - val_loss: 0.3900 - val_accuracy: 0.7949\n",
            "Epoch 132/200\n",
            "154/154 [==============================] - 0s 154us/step - loss: 0.3396 - accuracy: 0.8701 - val_loss: 0.3899 - val_accuracy: 0.7949\n",
            "Epoch 133/200\n",
            "154/154 [==============================] - 0s 151us/step - loss: 0.3393 - accuracy: 0.8701 - val_loss: 0.3907 - val_accuracy: 0.7949\n",
            "Epoch 134/200\n",
            "154/154 [==============================] - 0s 148us/step - loss: 0.3393 - accuracy: 0.8701 - val_loss: 0.3896 - val_accuracy: 0.7949\n",
            "Epoch 135/200\n",
            "154/154 [==============================] - 0s 146us/step - loss: 0.3390 - accuracy: 0.8701 - val_loss: 0.3895 - val_accuracy: 0.7949\n",
            "Epoch 136/200\n",
            "154/154 [==============================] - 0s 153us/step - loss: 0.3392 - accuracy: 0.8701 - val_loss: 0.3920 - val_accuracy: 0.7949\n",
            "Epoch 137/200\n",
            "154/154 [==============================] - 0s 218us/step - loss: 0.3385 - accuracy: 0.8701 - val_loss: 0.3918 - val_accuracy: 0.7949\n",
            "Epoch 138/200\n",
            "154/154 [==============================] - 0s 160us/step - loss: 0.3382 - accuracy: 0.8701 - val_loss: 0.3921 - val_accuracy: 0.7949\n",
            "Epoch 139/200\n",
            "154/154 [==============================] - 0s 159us/step - loss: 0.3380 - accuracy: 0.8701 - val_loss: 0.3919 - val_accuracy: 0.7949\n",
            "Epoch 140/200\n",
            "154/154 [==============================] - 0s 153us/step - loss: 0.3378 - accuracy: 0.8701 - val_loss: 0.3921 - val_accuracy: 0.7949\n",
            "Epoch 141/200\n",
            "154/154 [==============================] - 0s 146us/step - loss: 0.3377 - accuracy: 0.8701 - val_loss: 0.3906 - val_accuracy: 0.7949\n",
            "Epoch 142/200\n",
            "154/154 [==============================] - 0s 154us/step - loss: 0.3375 - accuracy: 0.8701 - val_loss: 0.3917 - val_accuracy: 0.7949\n",
            "Epoch 143/200\n",
            "154/154 [==============================] - 0s 156us/step - loss: 0.3371 - accuracy: 0.8701 - val_loss: 0.3918 - val_accuracy: 0.7949\n",
            "Epoch 144/200\n",
            "154/154 [==============================] - 0s 156us/step - loss: 0.3371 - accuracy: 0.8701 - val_loss: 0.3923 - val_accuracy: 0.7949\n",
            "Epoch 145/200\n",
            "154/154 [==============================] - 0s 155us/step - loss: 0.3368 - accuracy: 0.8701 - val_loss: 0.3914 - val_accuracy: 0.7949\n",
            "Epoch 146/200\n",
            "154/154 [==============================] - 0s 140us/step - loss: 0.3366 - accuracy: 0.8701 - val_loss: 0.3912 - val_accuracy: 0.7949\n",
            "Epoch 147/200\n",
            "154/154 [==============================] - 0s 149us/step - loss: 0.3368 - accuracy: 0.8701 - val_loss: 0.3912 - val_accuracy: 0.7949\n",
            "Epoch 148/200\n",
            "154/154 [==============================] - 0s 146us/step - loss: 0.3368 - accuracy: 0.8636 - val_loss: 0.3912 - val_accuracy: 0.8205\n",
            "Epoch 149/200\n",
            "154/154 [==============================] - 0s 149us/step - loss: 0.3363 - accuracy: 0.8571 - val_loss: 0.3910 - val_accuracy: 0.7949\n",
            "Epoch 150/200\n",
            "154/154 [==============================] - 0s 157us/step - loss: 0.3365 - accuracy: 0.8636 - val_loss: 0.3932 - val_accuracy: 0.7949\n",
            "Epoch 151/200\n",
            "154/154 [==============================] - 0s 154us/step - loss: 0.3357 - accuracy: 0.8571 - val_loss: 0.3928 - val_accuracy: 0.7949\n",
            "Epoch 152/200\n",
            "154/154 [==============================] - 0s 151us/step - loss: 0.3357 - accuracy: 0.8636 - val_loss: 0.3926 - val_accuracy: 0.7949\n",
            "Epoch 153/200\n",
            "154/154 [==============================] - 0s 168us/step - loss: 0.3357 - accuracy: 0.8636 - val_loss: 0.3926 - val_accuracy: 0.7949\n",
            "Epoch 154/200\n",
            "154/154 [==============================] - 0s 160us/step - loss: 0.3355 - accuracy: 0.8636 - val_loss: 0.3926 - val_accuracy: 0.8205\n",
            "Epoch 155/200\n",
            "154/154 [==============================] - 0s 160us/step - loss: 0.3350 - accuracy: 0.8636 - val_loss: 0.3932 - val_accuracy: 0.7949\n",
            "Epoch 156/200\n",
            "154/154 [==============================] - 0s 150us/step - loss: 0.3350 - accuracy: 0.8571 - val_loss: 0.3928 - val_accuracy: 0.8205\n",
            "Epoch 157/200\n",
            "154/154 [==============================] - 0s 158us/step - loss: 0.3349 - accuracy: 0.8636 - val_loss: 0.3925 - val_accuracy: 0.8205\n",
            "Epoch 158/200\n",
            "154/154 [==============================] - 0s 147us/step - loss: 0.3351 - accuracy: 0.8636 - val_loss: 0.3916 - val_accuracy: 0.8205\n",
            "Epoch 159/200\n",
            "154/154 [==============================] - 0s 150us/step - loss: 0.3349 - accuracy: 0.8636 - val_loss: 0.3917 - val_accuracy: 0.8205\n",
            "Epoch 160/200\n",
            "154/154 [==============================] - 0s 165us/step - loss: 0.3344 - accuracy: 0.8636 - val_loss: 0.3917 - val_accuracy: 0.8205\n",
            "Epoch 161/200\n",
            "154/154 [==============================] - 0s 153us/step - loss: 0.3342 - accuracy: 0.8571 - val_loss: 0.3922 - val_accuracy: 0.8205\n",
            "Epoch 162/200\n",
            "154/154 [==============================] - 0s 158us/step - loss: 0.3343 - accuracy: 0.8571 - val_loss: 0.3936 - val_accuracy: 0.8205\n",
            "Epoch 163/200\n",
            "154/154 [==============================] - 0s 155us/step - loss: 0.3341 - accuracy: 0.8571 - val_loss: 0.3923 - val_accuracy: 0.8205\n",
            "Epoch 164/200\n",
            "154/154 [==============================] - 0s 138us/step - loss: 0.3341 - accuracy: 0.8701 - val_loss: 0.3929 - val_accuracy: 0.8205\n",
            "Epoch 165/200\n",
            "154/154 [==============================] - 0s 150us/step - loss: 0.3339 - accuracy: 0.8636 - val_loss: 0.3924 - val_accuracy: 0.8205\n",
            "Epoch 166/200\n",
            "154/154 [==============================] - 0s 150us/step - loss: 0.3338 - accuracy: 0.8636 - val_loss: 0.3931 - val_accuracy: 0.8205\n",
            "Epoch 167/200\n",
            "154/154 [==============================] - 0s 161us/step - loss: 0.3335 - accuracy: 0.8636 - val_loss: 0.3935 - val_accuracy: 0.8205\n",
            "Epoch 168/200\n",
            "154/154 [==============================] - 0s 156us/step - loss: 0.3335 - accuracy: 0.8571 - val_loss: 0.3947 - val_accuracy: 0.8205\n",
            "Epoch 169/200\n",
            "154/154 [==============================] - 0s 210us/step - loss: 0.3338 - accuracy: 0.8571 - val_loss: 0.3947 - val_accuracy: 0.8205\n",
            "Epoch 170/200\n",
            "154/154 [==============================] - 0s 148us/step - loss: 0.3339 - accuracy: 0.8636 - val_loss: 0.3951 - val_accuracy: 0.8205\n",
            "Epoch 171/200\n",
            "154/154 [==============================] - 0s 148us/step - loss: 0.3333 - accuracy: 0.8571 - val_loss: 0.3946 - val_accuracy: 0.8205\n",
            "Epoch 172/200\n",
            "154/154 [==============================] - 0s 148us/step - loss: 0.3333 - accuracy: 0.8636 - val_loss: 0.3938 - val_accuracy: 0.8205\n",
            "Epoch 173/200\n",
            "154/154 [==============================] - 0s 151us/step - loss: 0.3331 - accuracy: 0.8571 - val_loss: 0.3939 - val_accuracy: 0.8205\n",
            "Epoch 174/200\n",
            "154/154 [==============================] - 0s 172us/step - loss: 0.3331 - accuracy: 0.8636 - val_loss: 0.3946 - val_accuracy: 0.8205\n",
            "Epoch 175/200\n",
            "154/154 [==============================] - 0s 173us/step - loss: 0.3329 - accuracy: 0.8701 - val_loss: 0.3947 - val_accuracy: 0.8205\n",
            "Epoch 176/200\n",
            "154/154 [==============================] - 0s 177us/step - loss: 0.3327 - accuracy: 0.8701 - val_loss: 0.3947 - val_accuracy: 0.8205\n",
            "Epoch 177/200\n",
            "154/154 [==============================] - 0s 172us/step - loss: 0.3326 - accuracy: 0.8636 - val_loss: 0.3947 - val_accuracy: 0.8205\n",
            "Epoch 178/200\n",
            "154/154 [==============================] - 0s 175us/step - loss: 0.3326 - accuracy: 0.8701 - val_loss: 0.3943 - val_accuracy: 0.8205\n",
            "Epoch 179/200\n",
            "154/154 [==============================] - 0s 177us/step - loss: 0.3325 - accuracy: 0.8701 - val_loss: 0.3948 - val_accuracy: 0.8205\n",
            "Epoch 180/200\n",
            "154/154 [==============================] - 0s 194us/step - loss: 0.3325 - accuracy: 0.8701 - val_loss: 0.3943 - val_accuracy: 0.8205\n",
            "Epoch 181/200\n",
            "154/154 [==============================] - 0s 177us/step - loss: 0.3325 - accuracy: 0.8701 - val_loss: 0.3956 - val_accuracy: 0.8205\n",
            "Epoch 182/200\n",
            "154/154 [==============================] - 0s 176us/step - loss: 0.3321 - accuracy: 0.8701 - val_loss: 0.3954 - val_accuracy: 0.8205\n",
            "Epoch 183/200\n",
            "154/154 [==============================] - 0s 179us/step - loss: 0.3318 - accuracy: 0.8701 - val_loss: 0.3956 - val_accuracy: 0.8205\n",
            "Epoch 184/200\n",
            "154/154 [==============================] - 0s 171us/step - loss: 0.3318 - accuracy: 0.8701 - val_loss: 0.3952 - val_accuracy: 0.8205\n",
            "Epoch 185/200\n",
            "154/154 [==============================] - 0s 175us/step - loss: 0.3319 - accuracy: 0.8701 - val_loss: 0.3956 - val_accuracy: 0.8205\n",
            "Epoch 186/200\n",
            "154/154 [==============================] - 0s 174us/step - loss: 0.3317 - accuracy: 0.8701 - val_loss: 0.3963 - val_accuracy: 0.8205\n",
            "Epoch 187/200\n",
            "154/154 [==============================] - 0s 177us/step - loss: 0.3317 - accuracy: 0.8636 - val_loss: 0.3962 - val_accuracy: 0.8205\n",
            "Epoch 188/200\n",
            "154/154 [==============================] - 0s 180us/step - loss: 0.3316 - accuracy: 0.8636 - val_loss: 0.3967 - val_accuracy: 0.8205\n",
            "Epoch 189/200\n",
            "154/154 [==============================] - 0s 184us/step - loss: 0.3317 - accuracy: 0.8701 - val_loss: 0.3957 - val_accuracy: 0.8205\n",
            "Epoch 190/200\n",
            "154/154 [==============================] - 0s 192us/step - loss: 0.3313 - accuracy: 0.8701 - val_loss: 0.3954 - val_accuracy: 0.8205\n",
            "Epoch 191/200\n",
            "154/154 [==============================] - 0s 187us/step - loss: 0.3318 - accuracy: 0.8701 - val_loss: 0.3948 - val_accuracy: 0.8205\n",
            "Epoch 192/200\n",
            "154/154 [==============================] - 0s 193us/step - loss: 0.3316 - accuracy: 0.8701 - val_loss: 0.3935 - val_accuracy: 0.8205\n",
            "Epoch 193/200\n",
            "154/154 [==============================] - 0s 163us/step - loss: 0.3310 - accuracy: 0.8701 - val_loss: 0.3935 - val_accuracy: 0.8205\n",
            "Epoch 194/200\n",
            "154/154 [==============================] - 0s 168us/step - loss: 0.3309 - accuracy: 0.8701 - val_loss: 0.3941 - val_accuracy: 0.8205\n",
            "Epoch 195/200\n",
            "154/154 [==============================] - 0s 158us/step - loss: 0.3314 - accuracy: 0.8571 - val_loss: 0.3951 - val_accuracy: 0.8205\n",
            "Epoch 196/200\n",
            "154/154 [==============================] - 0s 182us/step - loss: 0.3307 - accuracy: 0.8571 - val_loss: 0.3945 - val_accuracy: 0.8205\n",
            "Epoch 197/200\n",
            "154/154 [==============================] - 0s 172us/step - loss: 0.3307 - accuracy: 0.8571 - val_loss: 0.3946 - val_accuracy: 0.8205\n",
            "Epoch 198/200\n",
            "154/154 [==============================] - 0s 161us/step - loss: 0.3306 - accuracy: 0.8571 - val_loss: 0.3941 - val_accuracy: 0.8205\n",
            "Epoch 199/200\n",
            "154/154 [==============================] - 0s 149us/step - loss: 0.3305 - accuracy: 0.8571 - val_loss: 0.3949 - val_accuracy: 0.8205\n",
            "Epoch 200/200\n",
            "154/154 [==============================] - 0s 146us/step - loss: 0.3307 - accuracy: 0.8636 - val_loss: 0.3939 - val_accuracy: 0.8205\n"
          ],
          "name": "stdout"
        },
        {
          "output_type": "execute_result",
          "data": {
            "text/plain": [
              "<keras.callbacks.callbacks.History at 0x7f241ee01f60>"
            ]
          },
          "metadata": {
            "tags": []
          },
          "execution_count": 546
        }
      ]
    },
    {
      "cell_type": "code",
      "metadata": {
        "id": "AldK89jk8SDu",
        "colab_type": "code",
        "colab": {}
      },
      "source": [
        "# Prediction\n",
        "y_pred  = classifier.predict(x_test_scaled)"
      ],
      "execution_count": 0,
      "outputs": []
    },
    {
      "cell_type": "code",
      "metadata": {
        "id": "aNs9NpkZ8ZUk",
        "colab_type": "code",
        "outputId": "a0c1a2b7-7b0e-4c91-de1b-e889cbe32f38",
        "colab": {
          "base_uri": "https://localhost:8080/",
          "height": 34
        }
      },
      "source": [
        "# Calculate  Validation accuracy\n",
        "from sklearn.metrics import accuracy_score\n",
        "final = []\n",
        "for i in y_pred:\n",
        "    if i >= 0.5:\n",
        "        final.append(1)\n",
        "    else:\n",
        "        final.append(0)\n",
        "\n",
        "print('Validation Accuracy : {}'.format(accuracy_score(y_test, final) * 100))"
      ],
      "execution_count": 0,
      "outputs": [
        {
          "output_type": "stream",
          "text": [
            "Validation Accuracy : 79.59183673469387\n"
          ],
          "name": "stdout"
        }
      ]
    }
  ]
}